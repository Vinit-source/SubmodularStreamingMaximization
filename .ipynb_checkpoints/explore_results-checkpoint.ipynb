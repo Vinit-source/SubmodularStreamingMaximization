{
 "cells": [
  {
   "cell_type": "code",
   "execution_count": 6,
   "metadata": {},
   "outputs": [],
   "source": [
    "import numpy as np\n",
    "from plotly.subplots import make_subplots\n",
    "import plotly.graph_objects as go\n",
    "import plotly.express as px\n",
    "import plotly.io as pio\n",
    "import json\n",
    "from pandas.io.json import json_normalize \n",
    "from plotly.validators.scatter.marker import SymbolValidator\n",
    "\n",
    "import re\n",
    "\n",
    "def natural_sort(l): \n",
    "    convert = lambda text: int(text) if text.isdigit() else text.lower() \n",
    "    alphanum_key = lambda key: [ convert(c) for c in re.split('([0-9]+)', key) ] \n",
    "    return sorted(l, key = alphanum_key)\n",
    "\n",
    "def read_data(path):\n",
    "    data = []\n",
    "    with open(path, 'r', encoding='utf-8') as f:\n",
    "        for line in f:\n",
    "            data.append(json.loads(line))\n",
    "    df = json_normalize(data)\n",
    "    df = df.applymap(lambda x: x[0] if (isinstance(x, list) and len(x) == 1) else x)\n",
    "    return df\n",
    "\n",
    "def max_memory(row):\n",
    "    if row[\"method\"] in [\"Greedy\",\"ThreeSieves\",\"Random\"]:\n",
    "        return row[\"K\"]\n",
    "    elif row[\"method\"] in [\"SieveStreaming\", \"Salsa\"]:\n",
    "        epsilon = row[\"epsilon\"]\n",
    "        K = row[\"K\"]\n",
    "        lower = 1 # in all experiments we used m = 1\n",
    "        upper = lower * K\n",
    "\n",
    "        ilower = np.ceil(np.log(lower) / np.log(1+epsilon))\n",
    "        ts = []\n",
    "        t = np.power(1.0 + epsilon, ilower)\n",
    "        while (t < upper):\n",
    "            ts.append(t)\n",
    "            ilower += 1\n",
    "            t = np.power(1.0 + epsilon, ilower)\n",
    "\n",
    "        if row[\"method\"] == \"SieveStreaming\":\n",
    "            return K*len(ts)\n",
    "        else:\n",
    "            return 3*K*len(ts)\n",
    "    else:\n",
    "        # See https://arxiv.org/pdf/1905.00948.pdf page 6 for memory computation\n",
    "        epsilon = row[\"epsilon\"]\n",
    "        K = row[\"K\"]\n",
    "\n",
    "        mem = np.ceil(K*np.log(2) / epsilon)\n",
    "        upper = np.log(K) / np.log(1+epsilon)\n",
    "        i = 0\n",
    "        while(i < upper):\n",
    "            mem += K/np.power(1+epsilon,i)\n",
    "            i += 1\n",
    "        return mem\n",
    "        \n",
    "def relative_performance(row):\n",
    "    K = row[\"K\"]\n",
    "    sigma = row[\"sigma\"]\n",
    "    reference = df.loc[ (df[\"method\"] == \"Greedy\") & (df[\"K\"] == K) & (df[\"sigma\"] == sigma) ]\n",
    "    perf = row[\"scores.mean_fval\"] / reference[\"scores.mean_fval\"]\n",
    "\n",
    "    return int(perf.values[0]*100)\n",
    "    \n",
    "def nice_name(row):\n",
    "    if row[\"method\"] in [\"Greedy\", \"Random\", \"IndependentSetImprovement\"]:\n",
    "        return row[\"method\"]\n",
    "    elif row[\"method\"] in [\"SieveStreaming\", \"SieveStreaming++\", \"Salsa\"]:\n",
    "        #return \"{} ε = {}\".format(row[\"method\"], row[\"epsilon\"])\n",
    "        return row[\"method\"]\n",
    "    else:\n",
    "        #return \"{} ε = {}, T = {}\".format(row[\"method\"], row[\"epsilon\"], row[\"T\"])\n",
    "        return \"{} T = {}\".format(row[\"method\"], int(row[\"T\"]))\n",
    "\n",
    "def make_plots(dfs, x_name, filter_queries, colors = None, markers= None):    \n",
    "    # https://colorbrewer2.org/#type=qualitative&scheme=Paired&n=9\n",
    "    paired = ['#a6cee3','#1f78b4','#b2df8a','#33a02c','#fb9a99','#e31a1c','#fdbf6f','#ff7f00','#cab2d6','#6a3d9a','#ffff99','#b15928'] #\n",
    "    #raw_markers = SymbolValidator().values\n",
    "    raw_markers = [\"circle\", \"square\", \"diamond\", \"cross\", \"x\", \"triangle-up\", \"triangle-down\", \"triangle-left\", \"triangle-right\", \"pentagon\", \"hexagon\", \"hexagon2\", \"star\", \"hourglass\"]\n",
    "\n",
    "    if colors is None:\n",
    "        colors = {}\n",
    "        for n, c in zip(natural_sort(dfs[0][\"nice_name\"].unique()), paired):\n",
    "            colors[n] = c\n",
    "    \n",
    "    if markers is None:    \n",
    "        markers = {}\n",
    "        for n, m in zip(natural_sort(dfs[0][\"nice_name\"].unique()), raw_markers):\n",
    "            markers[n] = m \n",
    "    \n",
    "    #print(colors)\n",
    "\n",
    "    fig = make_subplots(rows=3, cols=len(dfs), subplot_titles=[str(df[\"dataset\"].unique()[0]) for df in dfs], horizontal_spacing = 0.03, vertical_spacing = 0.05)\n",
    "    \n",
    "    for i in fig['layout']['annotations']:\n",
    "        i['font']['size'] = 20 \n",
    "\n",
    "    for i in range(4):\n",
    "        for j in range(len(dfs) + 1):\n",
    "            fig.update_yaxes(row = i, col = j, title_font = {\"size\": 18}, linewidth = 2, tickfont = {\"size\":13})\n",
    "            fig.update_xaxes(row = i, col = j, title_font = {\"size\": 18}, linewidth = 2, tickfont = {\"size\":13})\n",
    "\n",
    "    for i, (df, query) in enumerate(zip(dfs, filter_queries)):\n",
    "        dff = df.query(query)\n",
    "        \n",
    "        if i == 0:\n",
    "            showlegend = True\n",
    "        else:\n",
    "            showlegend = False\n",
    "\n",
    "        x = None\n",
    "        for name in natural_sort(dff[\"nice_name\"].unique()):\n",
    "            df_method = dff.loc[ dff[\"nice_name\"] == name]\n",
    "            df_method = df_method.sort_values(by = [x_name])\n",
    "            if x is None or len(x) < len(df_method[x_name].values):\n",
    "                x = df_method[x_name].values\n",
    "\n",
    "        for name in natural_sort(dff[\"nice_name\"].unique()):\n",
    "            df_method = dff.loc[ dff[\"nice_name\"] == name]\n",
    "            df_method = df_method.sort_values(by = [x_name])\n",
    "            \n",
    "            if len(df_method[x_name].values) == 1:\n",
    "                x_method = x\n",
    "                relative_performance = [df_method[\"scores.relative_performance\"].values[0] for _ in x]\n",
    "                mean_fit_time = [df_method[\"scores.mean_fit_time\"].values[0] for _ in x]\n",
    "                mean_num_elements_stored = [df_method[\"scores.mean_num_elements_stored\"].values[0] for _ in x]\n",
    "\n",
    "                fig.add_trace(go.Scatter(x = x_method, y = relative_performance, name = name, showlegend = showlegend, marker=dict(color = colors[name], size=7, symbol=markers[name]), mode='lines+markers', line = {\"width\":2}), row = 1, col = i+1)\n",
    "                fig.add_trace(go.Scatter(x = x_method, y = mean_fit_time, name = name, showlegend = False, marker=dict(color = colors[name], size=7, symbol=markers[name]), mode='lines+markers', line = {\"width\":2}), row = 2, col = i+1)\n",
    "                fig.add_trace(go.Scatter(x = x_method, y = mean_num_elements_stored, name = name, showlegend = False, marker=dict(color = colors[name], size=7, symbol=markers[name]), mode='lines+markers', line = {\"width\":2}), row = 3, col = i+1)\n",
    "            else:\n",
    "                fig.add_trace(go.Scatter(x = df_method[x_name], y = df_method[\"scores.relative_performance\"], name = name, showlegend = showlegend, marker=dict(color = colors[name], size=7, symbol=markers[name]), mode='lines+markers', line = {\"width\":2}), row = 1, col = i+1)\n",
    "                fig.add_trace(go.Scatter(x = df_method[x_name], y = df_method[\"scores.mean_fit_time\"], name = name, showlegend = False, marker=dict(color = colors[name], size=7, symbol=markers[name]), mode='lines+markers', line = {\"width\":2}), row = 2, col = i+1)\n",
    "                fig.add_trace(go.Scatter(x = df_method[x_name], y = df_method[\"scores.mean_num_elements_stored\"], name = name, showlegend = False, marker=dict(color = colors[name], size=7, symbol=markers[name]), mode='lines+markers', line = {\"width\":2}), row = 3, col = i+1)\n",
    "\n",
    "    fig.update_yaxes(title_text=\"Relative Performance\", row=1, col=1, title_standoff = 25)\n",
    "    fig.update_yaxes(title_text=\"Runtime [s]\", row=2, col=1)\n",
    "    fig.update_yaxes(title_text=\"Num. elements stored\", row=3, col=1)\n",
    "\n",
    "    #fig.update_layout(\n",
    "    #    template=\"simple_white\",\n",
    "    #    legend=dict(orientation=\"h\",yanchor=\"bottom\",y=-0.1,xanchor=\"left\",x=0.00),\n",
    "    #    margin={'l': 5, 'r': 20, 't': 20, 'b': 5},\n",
    "    #    height=900, width=1500\n",
    "    #)\n",
    "\n",
    "    return fig\n",
    "\n",
    "pio.orca.config.use_xvfb = True\n"
   ]
  },
  {
   "cell_type": "code",
   "execution_count": 7,
   "metadata": {},
   "outputs": [
    {
     "ename": "NameError",
     "evalue": "name 'df' is not defined",
     "output_type": "error",
     "traceback": [
      "\u001b[0;31m---------------------------------------------------------------------------\u001b[0m",
      "\u001b[0;31mNameError\u001b[0m                                 Traceback (most recent call last)",
      "\u001b[0;32m/tmp/ipykernel_58893/1071475876.py\u001b[0m in \u001b[0;36m<module>\u001b[0;34m\u001b[0m\n\u001b[1;32m     16\u001b[0m     \u001b[0;31m#df = pd.read_csv(os.path.join(\"experiments\",d,\"results.csv\"))\u001b[0m\u001b[0;34m\u001b[0m\u001b[0;34m\u001b[0m\u001b[0;34m\u001b[0m\u001b[0m\n\u001b[1;32m     17\u001b[0m     \u001b[0;31m#print(df)\u001b[0m\u001b[0;34m\u001b[0m\u001b[0;34m\u001b[0m\u001b[0;34m\u001b[0m\u001b[0m\n\u001b[0;32m---> 18\u001b[0;31m     \u001b[0mdf\u001b[0m\u001b[0;34m[\u001b[0m\u001b[0;34m\"nice_name\"\u001b[0m\u001b[0;34m]\u001b[0m \u001b[0;34m=\u001b[0m \u001b[0mdf\u001b[0m\u001b[0;34m.\u001b[0m\u001b[0mapply\u001b[0m\u001b[0;34m(\u001b[0m\u001b[0mnice_name\u001b[0m\u001b[0;34m,\u001b[0m\u001b[0maxis\u001b[0m\u001b[0;34m=\u001b[0m\u001b[0;36m1\u001b[0m\u001b[0;34m)\u001b[0m\u001b[0;34m\u001b[0m\u001b[0;34m\u001b[0m\u001b[0m\n\u001b[0m\u001b[1;32m     19\u001b[0m     \u001b[0mdf\u001b[0m\u001b[0;34m[\u001b[0m\u001b[0;34m\"scores.relative_performance\"\u001b[0m\u001b[0;34m]\u001b[0m \u001b[0;34m=\u001b[0m \u001b[0mdf\u001b[0m\u001b[0;34m.\u001b[0m\u001b[0mapply\u001b[0m\u001b[0;34m(\u001b[0m\u001b[0mrelative_performance\u001b[0m\u001b[0;34m,\u001b[0m\u001b[0maxis\u001b[0m\u001b[0;34m=\u001b[0m\u001b[0;36m1\u001b[0m\u001b[0;34m)\u001b[0m\u001b[0;34m\u001b[0m\u001b[0;34m\u001b[0m\u001b[0m\n\u001b[1;32m     20\u001b[0m     \u001b[0mdf\u001b[0m\u001b[0;34m[\u001b[0m\u001b[0;34m\"scores.max_memory\"\u001b[0m\u001b[0;34m]\u001b[0m \u001b[0;34m=\u001b[0m \u001b[0mdf\u001b[0m\u001b[0;34m.\u001b[0m\u001b[0mapply\u001b[0m\u001b[0;34m(\u001b[0m\u001b[0mmax_memory\u001b[0m\u001b[0;34m,\u001b[0m\u001b[0maxis\u001b[0m\u001b[0;34m=\u001b[0m\u001b[0;36m1\u001b[0m\u001b[0;34m)\u001b[0m\u001b[0;34m\u001b[0m\u001b[0;34m\u001b[0m\u001b[0m\n",
      "\u001b[0;31mNameError\u001b[0m: name 'df' is not defined"
     ]
    }
   ],
   "source": [
    "import numpy as np\n",
    "import pandas as pd\n",
    "import os\n",
    "from plotly.subplots import make_subplots\n",
    "import plotly.graph_objects as go\n",
    "import plotly.express as px\n",
    "import plotly.io as pio\n",
    "\n",
    "pio.orca.config.executable = \"/home/vinitgore/.conda/envs/pyssm/bin/orca\"\n",
    "# datasets = [\"forestcover\", \"kddcup99\", \"creditfraud\", \"fact-highlevel\", \"fact-lowlevel\"] \n",
    "datasets = [\"enron\"]\n",
    "\n",
    "dfs = []\n",
    "for d in datasets:\n",
    "    df = read_data(os.path.join(\"experiments\", d, \"results\", \"results.jsonl\"))\n",
    "    #df = pd.read_csv(os.path.join(\"experiments\",d,\"results.csv\"))\n",
    "    #print(df)\n",
    "    df[\"nice_name\"] = df.apply(nice_name,axis=1)\n",
    "    df[\"scores.relative_performance\"] = df.apply(relative_performance,axis=1)\n",
    "    df[\"scores.max_memory\"] = df.apply(max_memory,axis=1)\n",
    "    if d == \"forestcover\":\n",
    "        df[\"dataset\"] = \"Forestcover\"\n",
    "    elif d == \"kddcup99\":\n",
    "        df[\"dataset\"] = \"KDDCup99\"\n",
    "    elif d == \"creditfraud\":\n",
    "        df[\"dataset\"] = \"Creditfraud\"\n",
    "    elif d == \"fact-highlevel\":\n",
    "        df[\"dataset\"] = \"FACT Highlevel\"\n",
    "    elif d == \"fact-lowlevel\":\n",
    "        df[\"dataset\"] = \"FACT Lowlevel\"\n",
    "    else:\n",
    "        df[\"dataset\"] = d\n",
    "    dfs.append(df)\n",
    "\n",
    "for eps in [0.001, 0.01, 0.05, 0.1]:\n",
    "    queries = [\n",
    "        \"(epsilon == {} | epsilon != epsilon) & (T != T | T == 500 | T == 1000 | T == 2500 | T == 5000)\".format(eps) for _ in datasets\n",
    "    ]\n",
    "    fig = make_plots(dfs, \"K\", queries)\n",
    "    for i, df in enumerate(dfs):\n",
    "        #fig.update_yaxes(row=1, col=i+1, type=\"log\")\n",
    "        fig.update_yaxes(row=2, col=i+1, type=\"log\")\n",
    "        fig.update_yaxes(row=3, col=i+1, type=\"log\")\n",
    "        fig.update_yaxes(dtick = 10, row = 1, col = i + 1)\n",
    "\n",
    "        fig.update_xaxes(dtick = 10, row = 1, col = i + 1)\n",
    "        fig.update_xaxes(dtick = 10, row = 2, col = i + 1)\n",
    "        fig.update_xaxes(dtick = 10, row = 3, col = i + 1)\n",
    "        fig.update_xaxes(title_text=\"K\", row=3, col=i + 1)\n",
    "\n",
    "    fig.update_layout(\n",
    "        template=\"simple_white\",\n",
    "        legend=dict(orientation=\"h\",yanchor=\"bottom\",y=-0.15,xanchor=\"left\",x=0.07,font={\"size\": 15}),\n",
    "        margin={'l': 5, 'r': 20, 't': 25, 'b': 5},\n",
    "        height=900, width=1500\n",
    "    )\n",
    "    fig.write_image(\"all_over_K_eps_{}.pdf\".format(eps))\n",
    "    fig.show()\n",
    "\n",
    "#Compute graphs for a \"fair\" selection of hyperparameters. \n",
    "queries = [\n",
    "    \"(method == \\\"Greedy\\\") | (method == \\\"IndependentSetImprovement\\\") | (method == \\\"Random\\\") | (method == \\\"ThreeSieves\\\" & (T == 1000 | T == 2500) & epsilon == 0.001) | ((method == \\\"Salsa\\\" | method == \\\"SieveStreaming\\\" | method == \\\"SieveStreaming++\\\") & (epsilon == 0.1) )\" for _ in datasets\n",
    "]\n",
    "fig = make_plots(dfs, \"K\", queries)\n",
    "for i, df in enumerate(dfs):\n",
    "    #fig.update_yaxes(row=1, col=i+1, type=\"log\")\n",
    "    fig.update_yaxes(row=2, col=i+1, type=\"log\")\n",
    "    fig.update_yaxes(row=3, col=i+1, type=\"log\")\n",
    "    fig.update_yaxes(dtick = 10, row = 1, col = i + 1)\n",
    "\n",
    "    fig.update_xaxes(dtick = 10, row = 1, col = i + 1)\n",
    "    fig.update_xaxes(dtick = 10, row = 2, col = i + 1)\n",
    "    fig.update_xaxes(dtick = 10, row = 3, col = i + 1)\n",
    "    fig.update_xaxes(title_text=\"K\", row=3, col=i + 1)\n",
    "\n",
    "fig.update_layout(\n",
    "    template=\"simple_white\",\n",
    "    legend=dict(orientation=\"h\",yanchor=\"bottom\",y=-0.15,xanchor=\"left\",x=0.07,font={\"size\": 15}),\n",
    "    margin={'l': 5, 'r': 20, 't': 25, 'b': 5},\n",
    "    height=900, width=1500\n",
    ")\n",
    "fig.write_image(\"fair_selection.pdf\")\n",
    "fig.show()\n",
    "\n",
    "for K in [25, 50, 75, 100]:\n",
    "    queries = [\n",
    "        \"K == {} & (T != T | T == 500 | T == 1000 | T == 2500 | T == 5000)\".format(K) for _ in datasets\n",
    "        #\"K == {} & method != \\\"IndependentSetImprovement\\\" & method != \\\"Greedy\\\" & method != \\\"Random\\\" & (T != T | T == 500 | T == 1000 | T == 2500 | T == 5000)\".format(K) for _ in datasets\n",
    "    ]\n",
    "    fig = make_plots(dfs, \"epsilon\", queries)\n",
    "    for i, df in enumerate(dfs):\n",
    "        fig.update_yaxes(row=2, col=i+1, type=\"log\")\n",
    "        fig.update_yaxes(row=3, col=i+1, type=\"log\")\n",
    "        fig.update_yaxes(dtick = 10, row = 1, col = i + 1)\n",
    "        fig.update_xaxes(title_text=\"ε\", row=3, col=i + 1)\n",
    "\n",
    "    fig.update_layout(\n",
    "        template=\"simple_white\",\n",
    "        legend=dict(orientation=\"h\",yanchor=\"bottom\",y=-0.15,xanchor=\"left\",x=0.07,font={\"size\": 15}),\n",
    "        margin={'l': 5, 'r': 20, 't': 25, 'b': 5},\n",
    "        height=900, width=1500\n",
    "    )\n",
    "    fig.write_image(\"all_over_eps_K_{}.pdf\".format(K))\n",
    "    fig.show()\n",
    "\n",
    "# paired = ['#a6cee3','#1f78b4','#b2df8a','#33a02c','#fb9a99','#e31a1c','#fdbf6f','#ff7f00','#cab2d6','#6a3d9a','#ffff99','#b15928'] #\n",
    "# raw_markers = [\"circle\", \"square\", \"diamond\", \"cross\", \"x\", \"triangle-up\", \"triangle-down\", \"triangle-left\", \"triangle-right\", \"pentagon\", \"hexagon\", \"hexagon2\", \"star\", \"hourglass\"]\n",
    "\n",
    "# colors = {}\n",
    "# markers = {}\n",
    "# for n, c, m in zip(natural_sort(dfs[0][\"nice_name\"].unique()), paired, raw_markers):\n",
    "#     colors[n] = c\n",
    "#     markers[n] = m \n",
    "\n",
    "# dfFactHi = dfs[3].query(\"method == \\\"ThreeSieves\\\"\")\n",
    "# dfFactLo = dfs[4].query(\"method == \\\"ThreeSieves\\\"\")\n",
    "\n",
    "# fig = make_subplots(rows=2, cols=2, subplot_titles=[\"Fact Highlevel\", \"Fact Lowlevel\"], horizontal_spacing = 0.03, vertical_spacing = 0.07)\n",
    "# for i in fig['layout']['annotations']:\n",
    "#     i['font']['size'] = 20\n",
    "# for i in range(3):\n",
    "#     for j in range(3):\n",
    "#         fig.update_yaxes(row = i, col = j, title_font = {\"size\": 20}, linewidth = 2, tickfont = {\"size\":13})\n",
    "#         fig.update_xaxes(row = i, col = j, title_font = {\"size\": 20}, linewidth = 2, tickfont = {\"size\":13})\n",
    "\n",
    "# epsilon = 0.001\n",
    "# K = 50\n",
    "# for name in natural_sort(dfFactHi[\"nice_name\"].unique()):\n",
    "#     tmp = dfFactHi.query(\"nice_name == \\\"{}\\\" & epsilon == {}\".format(name, 0.01))\n",
    "#     tmp = tmp.sort_values(by = [\"K\"])\n",
    "#     fig.add_trace(\n",
    "#         go.Scatter(x = tmp[\"K\"], y = tmp[\"scores.relative_performance\"], name = name, mode='lines+markers', showlegend = True, \n",
    "#             marker=dict(color = colors[name], size=7, symbol=markers[name]), line = {\"width\":2}\n",
    "#         ), row = 1, col = 1\n",
    "#     )\n",
    "\n",
    "#     tmp = dfFactHi.query(\"nice_name == \\\"{}\\\"& K == {}\".format(name, K))\n",
    "#     tmp = tmp.sort_values(by = [\"epsilon\"])\n",
    "#     fig.add_trace(\n",
    "#         go.Scatter(x = tmp[\"epsilon\"], y = tmp[\"scores.relative_performance\"], name = name, mode='lines+markers', showlegend = False, \n",
    "#             marker=dict(color = colors[name], size=7, symbol=markers[name]), line = {\"width\":2}\n",
    "#         ), row = 2, col = 1\n",
    "#     )\n",
    "   \n",
    "# for name in natural_sort(dfFactLo[\"nice_name\"].unique()):\n",
    "#     tmp = dfFactLo.query(\"nice_name == \\\"{}\\\" & epsilon == {}\".format(name, 0.01))\n",
    "#     tmp = tmp.sort_values(by = [\"K\"])\n",
    "#     fig.add_trace(go.Scatter(x = tmp[\"K\"], y = tmp[\"scores.relative_performance\"], name = name, mode='lines+markers', line = {\"width\":2}, showlegend = False, marker=dict(color = colors[name], size=7, symbol=markers[name])), row = 1, col = 2)\n",
    "\n",
    "#     tmp = dfFactLo.query(\"nice_name == \\\"{}\\\"& K == {}\".format(name, K))\n",
    "#     tmp = tmp.sort_values(by = [\"epsilon\"])\n",
    "#     fig.add_trace(go.Scatter(x = tmp[\"epsilon\"], y = tmp[\"scores.relative_performance\"], name = name, mode='lines+markers', line = {\"width\":2}, showlegend = False, marker=dict(color = colors[name], size=7, symbol=markers[name])), row = 2, col = 2)\n",
    "\n",
    "# fig.update_yaxes(title_text=\"Relative Performance\", row=1, col=1)\n",
    "# fig.update_yaxes(title_text=\"Relative Performance\", row=2, col=1)\n",
    "# fig.update_xaxes(dtick = 10, title_text=\"K\", row=1, col=2)\n",
    "# fig.update_xaxes(title_text=\"ε\", row=2, col=2)\n",
    "# fig.update_xaxes(dtick = 10, title_text=\"K\", row=1, col=1)\n",
    "# fig.update_xaxes(title_text=\"ε\", row=2, col=1)\n",
    "\n",
    "# fig.update_layout(\n",
    "#     template=\"simple_white\",\n",
    "#     legend=dict(orientation=\"h\",yanchor=\"bottom\",y=-0.12,xanchor=\"left\",x=0.12,font={\"size\": 15}),\n",
    "#     margin={'l': 5, 'r': 20, 't': 25, 'b': 5},\n",
    "#     height=900, width=1100\n",
    "# )\n",
    "\n",
    "# fig.show()\n",
    "# fig.write_image(\"T_over_fact.pdf\")\n",
    "\n"
   ]
  },
  {
   "cell_type": "code",
   "execution_count": null,
   "metadata": {},
   "outputs": [],
   "source": []
  },
  {
   "cell_type": "code",
   "execution_count": null,
   "metadata": {},
   "outputs": [],
   "source": [
    "import numpy as np\n",
    "import pandas as pd\n",
    "import os\n",
    "from plotly.subplots import make_subplots\n",
    "import plotly.graph_objects as go\n",
    "import plotly.express as px\n",
    "import plotly.io as pio\n",
    "\n",
    "pio.orca.config.executable = \"/home/vinitgore/.conda/envs/pyssm/bin/orca\"\n",
    "datasets = [\"forestcover\", \"creditfraud\"] \n",
    "\n",
    "dfs = []\n",
    "for d in datasets:\n",
    "    df = read_data(os.path.join(\"experiments\", d, \"results\", \"results.jsonl\"))\n",
    "    #df = pd.read_csv(os.path.join(\"experiments\",d,\"results.csv\"))\n",
    "\n",
    "    df[\"nice_name\"] = df.apply(nice_name,axis=1)\n",
    "    df[\"scores.relative_performance\"] = df.apply(relative_performance,axis=1)\n",
    "    df[\"scores.max_memory\"] = df.apply(max_memory,axis=1)\n",
    "    if d == \"forestcover\":\n",
    "        df[\"dataset\"] = \"Forestcover\"\n",
    "    elif d == \"kddcup99\":\n",
    "        df[\"dataset\"] = \"KDDCup99\"\n",
    "    elif d == \"creditfraud\":\n",
    "        df[\"dataset\"] = \"Creditfraud\"\n",
    "    elif d == \"fact-highlevel\":\n",
    "        df[\"dataset\"] = \"FACT Highlevel\"\n",
    "    elif d == \"fact-lowlevel\":\n",
    "        df[\"dataset\"] = \"FACT Lowlevel\"\n",
    "    else:\n",
    "        df[\"dataset\"] = d\n",
    "    dfs.append(df)\n",
    "\n",
    "queries = [\n",
    "    \"(epsilon == 0.001 | epsilon != epsilon) & (T != T | T == 500 | T == 1000 | T == 2500 | T == 5000)\" for _ in datasets\n",
    "]\n",
    "fig = make_plots(dfs, \"K\", queries)\n",
    "for i, df in enumerate(dfs):\n",
    "    #fig.update_yaxes(row=1, col=i+1, type=\"log\")\n",
    "    fig.update_yaxes(row=2, col=i+1, type=\"log\")\n",
    "    fig.update_yaxes(row=3, col=i+1, type=\"log\")\n",
    "    fig.update_yaxes(dtick = 10, row = 1, col = i + 1)\n",
    "\n",
    "    fig.update_xaxes(dtick = 10, row = 1, col = i + 1)\n",
    "    fig.update_xaxes(dtick = 10, row = 2, col = i + 1)\n",
    "    fig.update_xaxes(dtick = 10, row = 3, col = i + 1)\n",
    "    fig.update_xaxes(title_text=\"K\", row=3, col=i + 1, title_font = {\"size\": 16})\n",
    "\n",
    "fig.update_layout(\n",
    "    template=\"simple_white\",\n",
    "    legend=dict(orientation=\"h\",yanchor=\"bottom\",y=-0.19,xanchor=\"left\",x=0.05),\n",
    "    margin={'l': 5, 'r': 5, 't': 20, 'b': 5},\n",
    "    height=700, width=900\n",
    ")\n",
    "fig.write_image(\"all_over_K.pdf\")\n",
    "fig.show()\n",
    "\n",
    "queries = [\n",
    "    \"K == 50 & method != \\\"IndependentSetImprovement\\\" & method != \\\"Greedy\\\" & method != \\\"Random\\\" & (T != T | T == 500 | T == 1000 | T == 2500 | T == 5000)\" for _ in datasets\n",
    "]\n",
    "fig = make_plots(dfs, \"epsilon\", queries)\n",
    "for i, df in enumerate(dfs):\n",
    "    fig.update_yaxes(row=2, col=i+1, type=\"log\")\n",
    "    fig.update_yaxes(row=3, col=i+1, type=\"log\")\n",
    "    fig.update_yaxes(dtick = 10, row = 1, col = i + 1)\n",
    "    fig.update_xaxes(title_text=\"ε\", row=3, col=i + 1, title_font = {\"size\": 16})\n",
    "\n",
    "fig.update_layout(\n",
    "    template=\"simple_white\",\n",
    "    legend=dict(orientation=\"h\",yanchor=\"bottom\",y=-0.19,xanchor=\"left\",x=0.0),\n",
    "    margin={'l': 5, 'r': 5, 't': 20, 'b': 5},\n",
    "    height=700, width=900\n",
    ")\n",
    "fig.write_image(\"all_over_eps.pdf\")\n",
    "fig.show()\n",
    "\n",
    "\n",
    "#queries = [\n",
    "#    \"K == 50 & method != \\\"IndependentSetImprovement\\\" & method != \\\"Greedy\\\" & method != \\\"Random\\\" & (T != T | T == 500 | T == 1000 | T == 2500 | T == 5000)\" for _ in datasets\n",
    "#]\n",
    "#fig = make_plots(dfs, \"epsilon\", queries)\n",
    "#for i, df in enumerate(dfs):\n",
    "#    fig.update_yaxes(row=2, col=i+1, type=\"log\")\n",
    "#    fig.update_yaxes(row=3, col=i+1, type=\"log\")\n",
    "#    fig.update_yaxes(dtick = 10, row = 1, col = i + 1)\n",
    "#    fig.update_xaxes(title_text=\"ε\", row=3, col=i + 1, title_font = {\"size\": 16})\n",
    "\n",
    "#fig.update_layout(\n",
    "#    template=\"simple_white\",\n",
    "#    legend=dict(orientation=\"h\",yanchor=\"bottom\",y=-0.19,xanchor=\"left\",x=0.05),\n",
    "#    margin={'l': 5, 'r': 5, 't': 20, 'b': 5},\n",
    "#    height=700, width=900\n",
    "#)\n",
    "#fig.write_image(\"all_over_eps.pdf\")\n",
    "#fig.show()"
   ]
  },
  {
   "cell_type": "code",
   "execution_count": null,
   "metadata": {},
   "outputs": [],
   "source": [
    "import numpy as np\n",
    "import pandas as pd\n",
    "import os\n",
    "from plotly.subplots import make_subplots\n",
    "import plotly.graph_objects as go\n",
    "import plotly.express as px\n",
    "import plotly.io as pio\n",
    "\n",
    "# Take the same colors / markers from the previous plots\n",
    "# Comment-out this code if there are no previous experiments\n",
    "#colors = {}\n",
    "#markers = {}\n",
    "#for n, c, m in zip(natural_sort(dfs[0][\"nice_name\"].unique()), paired, raw_markers):\n",
    "#    colors[n] = c\n",
    "#    markers[n] = m \n",
    "\n",
    "datasets = [\"stream51\", \"abc\", \"examiner\"] \n",
    "dfs = []\n",
    "\n",
    "for d in datasets:\n",
    "    df = read_data(os.path.join(\"experiments\", d, \"results\", \"results.jsonl\"))\n",
    "    df[\"nice_name\"] = df.apply(nice_name,axis=1)\n",
    "    df[\"scores.relative_performance\"] = df.apply(relative_performance,axis=1)\n",
    "    df[\"scores.max_memory\"] = df.apply(max_memory,axis=1)\n",
    "    df[\"dataset\"] = d\n",
    "    dfs.append(df)\n",
    "\n",
    "queries = [\n",
    "    \"(method != \\\"Greedy\\\") &(sigma == {}) & (epsilon == 0.1 | epsilon != epsilon) & (T != T | T == 500 | T == 1000 | T == 2500 | T == 5000)\".format(dfs[0][\"sigma\"].unique()[4]),\n",
    "    \"(method != \\\"Greedy\\\") &(sigma == {}) & (epsilon == 0.1 | epsilon != epsilon) & (T != T | T == 500 | T == 1000 | T == 2500 | T == 5000)\".format(dfs[1][\"sigma\"].unique()[0]),\n",
    "    \"(method != \\\"Greedy\\\") &(sigma == {}) & (epsilon == 0.1 | epsilon != epsilon) & (T != T | T == 500 | T == 1000 | T == 2500 | T == 5000)\".format(dfs[2][\"sigma\"].unique()[3])\n",
    "]\n",
    "\n",
    "fig = make_plots(dfs, \"K\", queries, colors, markers)\n",
    "for i, df in enumerate(dfs):\n",
    "    #fig.update_yaxes(row=1, col=i+1, type=\"log\")\n",
    "    fig.update_yaxes(row=2, col=i+1, type=\"log\")\n",
    "    fig.update_yaxes(row=3, col=i+1, type=\"log\")\n",
    "    fig.update_yaxes(dtick = 10, row = 1, col = i + 1)\n",
    "\n",
    "    fig.update_xaxes(dtick = 10, row = 1, col = i + 1)\n",
    "    fig.update_xaxes(dtick = 10, row = 2, col = i + 1)\n",
    "    fig.update_xaxes(dtick = 10, row = 3, col = i + 1)\n",
    "    fig.update_xaxes(title_text=\"K\", row=3, col=i + 1)\n",
    "\n",
    "fig.update_layout(\n",
    "    template=\"simple_white\",\n",
    "    legend=dict(orientation=\"h\",yanchor=\"bottom\",y=-0.1,xanchor=\"left\",x=0.08),\n",
    "    margin={'l': 5, 'r': 20, 't': 25, 'b': 5},\n",
    "    height=900, width=1500\n",
    ")\n",
    "fig.write_image(\"stream_all_over_K_0.1.pdf\")\n",
    "fig.show()\n",
    "\n",
    "queries = [\n",
    "    \"(method != \\\"Greedy\\\") & (sigma == {}) & (epsilon == 0.01 | epsilon != epsilon) & (T != T | T == 500 | T == 1000 | T == 2500 | T == 5000)\".format(dfs[0][\"sigma\"].unique()[4]),\n",
    "    \"(method != \\\"Greedy\\\") &(sigma == {}) & (epsilon == 0.01 | epsilon != epsilon) & (T != T | T == 500 | T == 1000 | T == 2500 | T == 5000)\".format(dfs[1][\"sigma\"].unique()[0]),\n",
    "    \"(method != \\\"Greedy\\\") &(sigma == {}) & (epsilon == 0.01 | epsilon != epsilon) & (T != T | T == 500 | T == 1000 | T == 2500 | T == 5000)\".format(dfs[2][\"sigma\"].unique()[3])\n",
    "]\n",
    "fig = make_plots(dfs, \"K\", queries, colors, markers)\n",
    "for i, df in enumerate(dfs):\n",
    "    #fig.update_yaxes(row=1, col=i+1, type=\"log\")\n",
    "    fig.update_yaxes(row=2, col=i+1, type=\"log\")\n",
    "    fig.update_yaxes(row=3, col=i+1, type=\"log\")\n",
    "    fig.update_yaxes(dtick = 10, row = 1, col = i + 1)\n",
    "\n",
    "    fig.update_xaxes(dtick = 10, row = 1, col = i + 1)\n",
    "    fig.update_xaxes(dtick = 10, row = 2, col = i + 1)\n",
    "    fig.update_xaxes(dtick = 10, row = 3, col = i + 1)\n",
    "    fig.update_xaxes(title_text=\"K\", row=3, col=i + 1)\n",
    "\n",
    "fig.update_layout(\n",
    "    template=\"simple_white\",\n",
    "    legend=dict(orientation=\"h\",yanchor=\"bottom\",y=-0.1,xanchor=\"left\",x=0.08),\n",
    "    margin={'l': 5, 'r': 20, 't': 25, 'b': 5},\n",
    "    height=900, width=1500\n",
    ")\n",
    "fig.write_image(\"stream_all_over_K_0.01.pdf\")\n",
    "fig.show()"
   ]
  },
  {
   "cell_type": "code",
   "execution_count": 51,
   "metadata": {},
   "outputs": [
    {
     "data": {
      "application/vnd.plotly.v1+json": {
       "config": {
        "plotlyServerURL": "https://plot.ly"
       },
       "data": [
        {
         "line": {
          "width": 2
         },
         "marker": {
          "color": "#1f78b4",
          "size": 7,
          "symbol": "square"
         },
         "mode": "lines+markers",
         "name": "IndependentSetImprovement",
         "showlegend": true,
         "type": "scatter",
         "x": [
          5,
          10,
          15,
          20,
          25,
          30,
          35,
          40,
          45,
          50,
          55,
          60,
          65,
          70,
          75,
          80,
          85,
          90,
          95,
          100
         ],
         "xaxis": "x",
         "y": [
          85,
          83,
          85,
          83,
          87,
          85,
          87,
          86,
          88,
          87,
          88,
          90,
          90,
          90,
          90,
          90,
          90,
          90,
          91,
          91
         ],
         "yaxis": "y"
        },
        {
         "line": {
          "width": 2
         },
         "marker": {
          "color": "#b2df8a",
          "size": 7,
          "symbol": "diamond"
         },
         "mode": "lines+markers",
         "name": "Random",
         "showlegend": true,
         "type": "scatter",
         "x": [
          5,
          10,
          15,
          20,
          25,
          30,
          35,
          40,
          45,
          50,
          55,
          60,
          65,
          70,
          75,
          80,
          85,
          90,
          95,
          100
         ],
         "xaxis": "x",
         "y": [
          84,
          76,
          71,
          69,
          67,
          67,
          66,
          66,
          65,
          65,
          63,
          63,
          64,
          64,
          64,
          63,
          64,
          63,
          63,
          64
         ],
         "yaxis": "y"
        },
        {
         "line": {
          "width": 2
         },
         "marker": {
          "color": "#fb9a99",
          "size": 7,
          "symbol": "x"
         },
         "mode": "lines+markers",
         "name": "SieveStreaming",
         "showlegend": true,
         "type": "scatter",
         "x": [
          5,
          10,
          15,
          20,
          25,
          30,
          35,
          40,
          45,
          50,
          55,
          60,
          65,
          70,
          75,
          80,
          85,
          90,
          95,
          100
         ],
         "xaxis": "x",
         "y": [
          72,
          82,
          83,
          85,
          84,
          86,
          91,
          89,
          88,
          88,
          89,
          90,
          93,
          95,
          90,
          93,
          88,
          92,
          88,
          92
         ],
         "yaxis": "y"
        },
        {
         "line": {
          "width": 2
         },
         "marker": {
          "color": "#e31a1c",
          "size": 7,
          "symbol": "triangle-up"
         },
         "mode": "lines+markers",
         "name": "SieveStreaming++",
         "showlegend": true,
         "type": "scatter",
         "x": [
          5,
          10,
          15,
          20,
          25,
          30,
          35,
          40,
          45,
          50,
          55,
          60,
          65,
          70,
          75,
          80,
          85,
          90,
          95,
          100
         ],
         "xaxis": "x",
         "y": [
          93,
          89,
          92,
          94,
          88,
          90,
          91,
          92,
          93,
          94,
          95,
          88,
          89,
          89,
          90,
          91,
          91,
          92,
          92,
          93
         ],
         "yaxis": "y"
        },
        {
         "line": {
          "width": 2
         },
         "marker": {
          "color": "#fdbf6f",
          "size": 7,
          "symbol": "triangle-down"
         },
         "mode": "lines+markers",
         "name": "ThreeSieves T = 500",
         "showlegend": true,
         "type": "scatter",
         "x": [
          5,
          10,
          15,
          20,
          25,
          30,
          35,
          40,
          45,
          50,
          55,
          60,
          65,
          70,
          75,
          80,
          85,
          90,
          95,
          100
         ],
         "xaxis": "x",
         "y": [
          79,
          74,
          75,
          77,
          72,
          73,
          75,
          73,
          73,
          73,
          72,
          71,
          71,
          72,
          68,
          70,
          68,
          69,
          74,
          69
         ],
         "yaxis": "y"
        },
        {
         "line": {
          "width": 2
         },
         "marker": {
          "color": "#ff7f00",
          "size": 7,
          "symbol": "triangle-left"
         },
         "mode": "lines+markers",
         "name": "ThreeSieves T = 1000",
         "showlegend": true,
         "type": "scatter",
         "x": [
          5,
          10,
          15,
          20,
          25,
          30,
          35,
          40,
          45,
          50,
          55,
          60,
          65,
          70,
          75,
          80,
          85,
          90,
          95,
          100
         ],
         "xaxis": "x",
         "y": [
          79,
          83,
          84,
          77,
          77,
          78,
          83,
          81,
          80,
          80,
          81,
          82,
          77,
          79,
          74,
          77,
          80,
          77,
          80,
          77
         ],
         "yaxis": "y"
        },
        {
         "line": {
          "width": 2
         },
         "marker": {
          "color": "#cab2d6",
          "size": 7,
          "symbol": "triangle-right"
         },
         "mode": "lines+markers",
         "name": "ThreeSieves T = 2500",
         "showlegend": true,
         "type": "scatter",
         "x": [
          5,
          10,
          15,
          20,
          25,
          30,
          35,
          40,
          45,
          50,
          55,
          60,
          65,
          70,
          75,
          80,
          85,
          90,
          95,
          100
         ],
         "xaxis": "x",
         "y": [
          79,
          83,
          86,
          88,
          84,
          86,
          83,
          89,
          88,
          88,
          89,
          82,
          84,
          87,
          90,
          85,
          88,
          84,
          88,
          84
         ],
         "yaxis": "y"
        },
        {
         "line": {
          "width": 2
         },
         "marker": {
          "color": "#6a3d9a",
          "size": 7,
          "symbol": "pentagon"
         },
         "mode": "lines+markers",
         "name": "ThreeSieves T = 5000",
         "showlegend": true,
         "type": "scatter",
         "x": [
          5,
          10,
          15,
          20,
          25,
          30,
          35,
          40,
          45,
          50,
          55,
          60,
          65,
          70,
          75,
          80,
          85,
          90,
          95,
          100
         ],
         "xaxis": "x",
         "y": [
          79,
          83,
          86,
          89,
          88,
          86,
          91,
          89,
          88,
          88,
          89,
          90,
          84,
          87,
          90,
          85,
          88,
          92,
          88,
          92
         ],
         "yaxis": "y"
        },
        {
         "line": {
          "width": 2
         },
         "marker": {
          "color": "#1f78b4",
          "size": 7,
          "symbol": "square"
         },
         "mode": "lines+markers",
         "name": "IndependentSetImprovement",
         "showlegend": false,
         "type": "scatter",
         "x": [
          5,
          10,
          15,
          20,
          25,
          30,
          35,
          40,
          45,
          50,
          55,
          60,
          65,
          70,
          75,
          80,
          85,
          90,
          95,
          100
         ],
         "xaxis": "x2",
         "y": [
          73,
          70,
          75,
          73,
          77,
          76,
          77,
          79,
          81,
          81,
          81,
          82,
          81,
          82,
          82,
          81,
          82,
          82,
          82,
          82
         ],
         "yaxis": "y2"
        },
        {
         "line": {
          "width": 2
         },
         "marker": {
          "color": "#b2df8a",
          "size": 7,
          "symbol": "diamond"
         },
         "mode": "lines+markers",
         "name": "Random",
         "showlegend": false,
         "type": "scatter",
         "x": [
          5,
          10,
          15,
          20,
          25,
          30,
          35,
          40,
          45,
          50,
          55,
          60,
          65,
          70,
          75,
          80,
          85,
          90,
          95,
          100
         ],
         "xaxis": "x2",
         "y": [
          81,
          69,
          65,
          62,
          60,
          58,
          58,
          55,
          54,
          53,
          52,
          52,
          50,
          50,
          49,
          50,
          48,
          48,
          48,
          48
         ],
         "yaxis": "y2"
        },
        {
         "line": {
          "width": 2
         },
         "marker": {
          "color": "#fb9a99",
          "size": 7,
          "symbol": "x"
         },
         "mode": "lines+markers",
         "name": "SieveStreaming",
         "showlegend": false,
         "type": "scatter",
         "x": [
          5,
          10,
          15,
          20,
          25,
          30,
          35,
          40,
          45,
          50,
          55,
          60,
          65,
          70,
          75,
          80,
          85,
          90,
          95,
          100
         ],
         "xaxis": "x2",
         "y": [
          73,
          71,
          69,
          69,
          67,
          67,
          70,
          67,
          66,
          72,
          72,
          66,
          67,
          68,
          70,
          66,
          68,
          71,
          67,
          70
         ],
         "yaxis": "y2"
        },
        {
         "line": {
          "width": 2
         },
         "marker": {
          "color": "#e31a1c",
          "size": 7,
          "symbol": "triangle-up"
         },
         "mode": "lines+markers",
         "name": "SieveStreaming++",
         "showlegend": false,
         "type": "scatter",
         "x": [
          5,
          10,
          15,
          20,
          25,
          30,
          35,
          40,
          45,
          50,
          55,
          60,
          65,
          70,
          75,
          80,
          85,
          90,
          95,
          100
         ],
         "xaxis": "x2",
         "y": [
          99,
          99,
          99,
          99,
          99,
          99,
          99,
          99,
          99,
          99,
          99,
          99,
          99,
          99,
          99,
          99,
          99,
          99,
          99,
          99
         ],
         "yaxis": "y2"
        },
        {
         "line": {
          "width": 2
         },
         "marker": {
          "color": "#fdbf6f",
          "size": 7,
          "symbol": "triangle-down"
         },
         "mode": "lines+markers",
         "name": "ThreeSieves T = 500",
         "showlegend": false,
         "type": "scatter",
         "x": [
          5,
          10,
          15,
          20,
          25,
          30,
          35,
          40,
          45,
          50,
          55,
          60,
          65,
          70,
          75,
          80,
          85,
          90,
          95,
          100
         ],
         "xaxis": "x2",
         "y": [
          73,
          73,
          72,
          72,
          72,
          72,
          72,
          72,
          72,
          72,
          72,
          72,
          72,
          72,
          72,
          72,
          72,
          72,
          72,
          72
         ],
         "yaxis": "y2"
        },
        {
         "line": {
          "width": 2
         },
         "marker": {
          "color": "#ff7f00",
          "size": 7,
          "symbol": "triangle-left"
         },
         "mode": "lines+markers",
         "name": "ThreeSieves T = 1000",
         "showlegend": false,
         "type": "scatter",
         "x": [
          5,
          10,
          15,
          20,
          25,
          30,
          35,
          40,
          45,
          50,
          55,
          60,
          65,
          70,
          75,
          80,
          85,
          90,
          95,
          100
         ],
         "xaxis": "x2",
         "y": [
          73,
          73,
          72,
          72,
          72,
          72,
          72,
          72,
          72,
          72,
          72,
          72,
          72,
          72,
          72,
          72,
          72,
          72,
          72,
          72
         ],
         "yaxis": "y2"
        },
        {
         "line": {
          "width": 2
         },
         "marker": {
          "color": "#cab2d6",
          "size": 7,
          "symbol": "triangle-right"
         },
         "mode": "lines+markers",
         "name": "ThreeSieves T = 2500",
         "showlegend": false,
         "type": "scatter",
         "x": [
          5,
          10,
          15,
          20,
          25,
          30,
          35,
          40,
          45,
          50,
          55,
          60,
          65,
          70,
          75,
          80,
          85,
          90,
          95,
          100
         ],
         "xaxis": "x2",
         "y": [
          73,
          73,
          72,
          72,
          72,
          72,
          72,
          72,
          72,
          72,
          72,
          72,
          72,
          72,
          72,
          72,
          72,
          72,
          72,
          72
         ],
         "yaxis": "y2"
        },
        {
         "line": {
          "width": 2
         },
         "marker": {
          "color": "#6a3d9a",
          "size": 7,
          "symbol": "pentagon"
         },
         "mode": "lines+markers",
         "name": "ThreeSieves T = 5000",
         "showlegend": false,
         "type": "scatter",
         "x": [
          5,
          10,
          15,
          20,
          25,
          30,
          35,
          40,
          45,
          50,
          55,
          60,
          65,
          70,
          75,
          80,
          85,
          90,
          95,
          100
         ],
         "xaxis": "x2",
         "y": [
          73,
          73,
          72,
          72,
          72,
          72,
          72,
          72,
          72,
          72,
          72,
          72,
          72,
          72,
          72,
          72,
          72,
          72,
          72,
          72
         ],
         "yaxis": "y2"
        },
        {
         "line": {
          "width": 2
         },
         "marker": {
          "color": "#1f78b4",
          "size": 7,
          "symbol": "square"
         },
         "mode": "lines+markers",
         "name": "IndependentSetImprovement",
         "showlegend": false,
         "type": "scatter",
         "x": [
          5,
          10,
          15,
          20,
          25,
          30,
          35,
          40,
          45,
          50,
          55,
          60,
          65,
          70,
          75,
          80,
          85,
          90,
          95,
          100
         ],
         "xaxis": "x3",
         "y": [
          81,
          85,
          85,
          83,
          76,
          75,
          69,
          64,
          56,
          49,
          42,
          39,
          36,
          35,
          34,
          32,
          31,
          29,
          28,
          27
         ],
         "yaxis": "y3"
        },
        {
         "line": {
          "width": 2
         },
         "marker": {
          "color": "#b2df8a",
          "size": 7,
          "symbol": "diamond"
         },
         "mode": "lines+markers",
         "name": "Random",
         "showlegend": false,
         "type": "scatter",
         "x": [
          5,
          10,
          15,
          20,
          25,
          30,
          35,
          40,
          45,
          50,
          55,
          60,
          65,
          70,
          75,
          80,
          85,
          90,
          95,
          100
         ],
         "xaxis": "x3",
         "y": [
          66,
          51,
          44,
          39,
          36,
          33,
          32,
          31,
          29,
          28,
          27,
          26,
          26,
          24,
          24,
          23,
          23,
          23,
          23,
          22
         ],
         "yaxis": "y3"
        },
        {
         "line": {
          "width": 2
         },
         "marker": {
          "color": "#fb9a99",
          "size": 7,
          "symbol": "x"
         },
         "mode": "lines+markers",
         "name": "SieveStreaming",
         "showlegend": false,
         "type": "scatter",
         "x": [
          5,
          10,
          15,
          20,
          25,
          30,
          35,
          40,
          45,
          50,
          55,
          60,
          65,
          70,
          75,
          80,
          85,
          90,
          95,
          100
         ],
         "xaxis": "x3",
         "y": [
          79,
          93,
          89,
          93,
          94,
          89,
          94,
          93,
          93,
          93,
          95,
          88,
          91,
          94,
          89,
          93,
          97,
          92,
          97,
          93
         ],
         "yaxis": "y3"
        },
        {
         "line": {
          "width": 2
         },
         "marker": {
          "color": "#e31a1c",
          "size": 7,
          "symbol": "triangle-up"
         },
         "mode": "lines+markers",
         "name": "SieveStreaming++",
         "showlegend": false,
         "type": "scatter",
         "x": [
          5,
          10,
          15,
          20,
          25,
          30,
          35,
          40,
          45,
          50,
          55,
          60,
          65,
          70,
          75,
          80,
          85,
          90,
          95,
          100
         ],
         "xaxis": "x3",
         "y": [
          96,
          88,
          94,
          92,
          94,
          89,
          92,
          93,
          95,
          90,
          89,
          90,
          91,
          92,
          93,
          94,
          95,
          95,
          93,
          89
         ],
         "yaxis": "y3"
        },
        {
         "line": {
          "width": 2
         },
         "marker": {
          "color": "#fdbf6f",
          "size": 7,
          "symbol": "triangle-down"
         },
         "mode": "lines+markers",
         "name": "ThreeSieves T = 500",
         "showlegend": false,
         "type": "scatter",
         "x": [
          5,
          10,
          15,
          20,
          25,
          30,
          35,
          40,
          45,
          50,
          55,
          60,
          65,
          70,
          75,
          80,
          85,
          90,
          95,
          100
         ],
         "xaxis": "x3",
         "y": [
          79,
          71,
          67,
          63,
          58,
          61,
          59,
          58,
          57,
          58,
          59,
          55,
          56,
          53,
          55,
          52,
          54,
          52,
          50,
          52
         ],
         "yaxis": "y3"
        },
        {
         "line": {
          "width": 2
         },
         "marker": {
          "color": "#ff7f00",
          "size": 7,
          "symbol": "triangle-left"
         },
         "mode": "lines+markers",
         "name": "ThreeSieves T = 1000",
         "showlegend": false,
         "type": "scatter",
         "x": [
          5,
          10,
          15,
          20,
          25,
          30,
          35,
          40,
          45,
          50,
          55,
          60,
          65,
          70,
          75,
          80,
          85,
          90,
          95,
          100
         ],
         "xaxis": "x3",
         "y": [
          79,
          78,
          67,
          70,
          71,
          66,
          67,
          63,
          64,
          64,
          65,
          66,
          62,
          64,
          67,
          63,
          60,
          59,
          60,
          57
         ],
         "yaxis": "y3"
        },
        {
         "line": {
          "width": 2
         },
         "marker": {
          "color": "#cab2d6",
          "size": 7,
          "symbol": "triangle-right"
         },
         "mode": "lines+markers",
         "name": "ThreeSieves T = 2500",
         "showlegend": false,
         "type": "scatter",
         "x": [
          5,
          10,
          15,
          20,
          25,
          30,
          35,
          40,
          45,
          50,
          55,
          60,
          65,
          70,
          75,
          80,
          85,
          90,
          95,
          100
         ],
         "xaxis": "x3",
         "y": [
          79,
          85,
          81,
          77,
          71,
          81,
          78,
          77,
          77,
          77,
          78,
          73,
          75,
          78,
          73,
          76,
          72,
          69,
          73,
          70
         ],
         "yaxis": "y3"
        },
        {
         "line": {
          "width": 2
         },
         "marker": {
          "color": "#6a3d9a",
          "size": 7,
          "symbol": "pentagon"
         },
         "mode": "lines+markers",
         "name": "ThreeSieves T = 5000",
         "showlegend": false,
         "type": "scatter",
         "x": [
          5,
          10,
          15,
          20,
          25,
          30,
          35,
          40,
          45,
          50,
          55,
          60,
          65,
          70,
          75,
          80,
          85,
          90,
          95,
          100
         ],
         "xaxis": "x3",
         "y": [
          87,
          77,
          81,
          85,
          79,
          81,
          78,
          77,
          77,
          77,
          78,
          73,
          75,
          78,
          81,
          76,
          80,
          76,
          80,
          77
         ],
         "yaxis": "y3"
        },
        {
         "line": {
          "width": 2
         },
         "marker": {
          "color": "#1f78b4",
          "size": 7,
          "symbol": "square"
         },
         "mode": "lines+markers",
         "name": "IndependentSetImprovement",
         "showlegend": false,
         "type": "scatter",
         "x": [
          5,
          10,
          15,
          20,
          25,
          30,
          35,
          40,
          45,
          50,
          55,
          60,
          65,
          70,
          75,
          80,
          85,
          90,
          95,
          100
         ],
         "xaxis": "x4",
         "y": [
          85,
          83,
          85,
          83,
          87,
          85,
          87,
          86,
          88,
          87,
          88,
          90,
          90,
          90,
          90,
          90,
          90,
          90,
          91,
          91
         ],
         "yaxis": "y4"
        },
        {
         "line": {
          "width": 2
         },
         "marker": {
          "color": "#b2df8a",
          "size": 7,
          "symbol": "diamond"
         },
         "mode": "lines+markers",
         "name": "Random",
         "showlegend": false,
         "type": "scatter",
         "x": [
          5,
          10,
          15,
          20,
          25,
          30,
          35,
          40,
          45,
          50,
          55,
          60,
          65,
          70,
          75,
          80,
          85,
          90,
          95,
          100
         ],
         "xaxis": "x4",
         "y": [
          84,
          76,
          71,
          69,
          67,
          67,
          66,
          66,
          65,
          65,
          63,
          63,
          64,
          64,
          64,
          63,
          64,
          63,
          63,
          64
         ],
         "yaxis": "y4"
        },
        {
         "line": {
          "width": 2
         },
         "marker": {
          "color": "#fb9a99",
          "size": 7,
          "symbol": "x"
         },
         "mode": "lines+markers",
         "name": "SieveStreaming",
         "showlegend": false,
         "type": "scatter",
         "x": [
          5,
          10,
          15,
          20,
          25,
          30,
          35,
          40,
          45,
          50,
          55,
          60,
          65,
          70,
          75,
          80,
          85,
          90,
          95,
          100
         ],
         "xaxis": "x4",
         "y": [
          78,
          83,
          86,
          88,
          90,
          91,
          93,
          94,
          96,
          96,
          96,
          96,
          96,
          95,
          95,
          95,
          96,
          95,
          96,
          95
         ],
         "yaxis": "y4"
        },
        {
         "line": {
          "width": 2
         },
         "marker": {
          "color": "#e31a1c",
          "size": 7,
          "symbol": "triangle-up"
         },
         "mode": "lines+markers",
         "name": "SieveStreaming++",
         "showlegend": false,
         "type": "scatter",
         "x": [
          5,
          10,
          15,
          20,
          25,
          30,
          35,
          40,
          45,
          50,
          55,
          60,
          65,
          70,
          75,
          80,
          85,
          90,
          95,
          100
         ],
         "xaxis": "x4",
         "y": [
          98,
          96,
          94,
          95,
          95,
          95,
          95,
          94,
          95,
          95,
          94,
          94,
          95,
          95,
          95,
          95,
          95,
          95,
          95,
          95
         ],
         "yaxis": "y4"
        },
        {
         "line": {
          "width": 2
         },
         "marker": {
          "color": "#fdbf6f",
          "size": 7,
          "symbol": "triangle-down"
         },
         "mode": "lines+markers",
         "name": "ThreeSieves T = 500",
         "showlegend": false,
         "type": "scatter",
         "x": [
          5,
          10,
          15,
          20,
          25,
          30,
          35,
          40,
          45,
          50,
          55,
          60,
          65,
          70,
          75,
          80,
          85,
          90,
          95,
          100
         ],
         "xaxis": "x4",
         "y": [
          79,
          82,
          83,
          83,
          85,
          85,
          85,
          85,
          85,
          85,
          85,
          85,
          83,
          83,
          82,
          82,
          82,
          82,
          81,
          81
         ],
         "yaxis": "y4"
        },
        {
         "line": {
          "width": 2
         },
         "marker": {
          "color": "#ff7f00",
          "size": 7,
          "symbol": "triangle-left"
         },
         "mode": "lines+markers",
         "name": "ThreeSieves T = 1000",
         "showlegend": false,
         "type": "scatter",
         "x": [
          5,
          10,
          15,
          20,
          25,
          30,
          35,
          40,
          45,
          50,
          55,
          60,
          65,
          70,
          75,
          80,
          85,
          90,
          95,
          100
         ],
         "xaxis": "x4",
         "y": [
          79,
          83,
          86,
          87,
          88,
          87,
          87,
          87,
          88,
          87,
          87,
          88,
          88,
          89,
          88,
          89,
          89,
          89,
          89,
          90
         ],
         "yaxis": "y4"
        },
        {
         "line": {
          "width": 2
         },
         "marker": {
          "color": "#cab2d6",
          "size": 7,
          "symbol": "triangle-right"
         },
         "mode": "lines+markers",
         "name": "ThreeSieves T = 2500",
         "showlegend": false,
         "type": "scatter",
         "x": [
          5,
          10,
          15,
          20,
          25,
          30,
          35,
          40,
          45,
          50,
          55,
          60,
          65,
          70,
          75,
          80,
          85,
          90,
          95,
          100
         ],
         "xaxis": "x4",
         "y": [
          79,
          83,
          86,
          89,
          89,
          90,
          91,
          91,
          92,
          91,
          91,
          92,
          91,
          91,
          92,
          93,
          93,
          93,
          93,
          93
         ],
         "yaxis": "y4"
        },
        {
         "line": {
          "width": 2
         },
         "marker": {
          "color": "#6a3d9a",
          "size": 7,
          "symbol": "pentagon"
         },
         "mode": "lines+markers",
         "name": "ThreeSieves T = 5000",
         "showlegend": false,
         "type": "scatter",
         "x": [
          5,
          10,
          15,
          20,
          25,
          30,
          35,
          40,
          45,
          50,
          55,
          60,
          65,
          70,
          75,
          80,
          85,
          90,
          95,
          100
         ],
         "xaxis": "x4",
         "y": [
          79,
          83,
          86,
          89,
          90,
          91,
          93,
          93,
          93,
          93,
          94,
          94,
          95,
          95,
          96,
          96,
          96,
          96,
          97,
          89
         ],
         "yaxis": "y4"
        },
        {
         "line": {
          "width": 2
         },
         "marker": {
          "color": "#1f78b4",
          "size": 7,
          "symbol": "square"
         },
         "mode": "lines+markers",
         "name": "IndependentSetImprovement",
         "showlegend": false,
         "type": "scatter",
         "x": [
          5,
          10,
          15,
          20,
          25,
          30,
          35,
          40,
          45,
          50,
          55,
          60,
          65,
          70,
          75,
          80,
          85,
          90,
          95,
          100
         ],
         "xaxis": "x5",
         "y": [
          73,
          70,
          75,
          73,
          77,
          76,
          77,
          79,
          81,
          81,
          81,
          82,
          81,
          82,
          82,
          81,
          82,
          82,
          82,
          82
         ],
         "yaxis": "y5"
        },
        {
         "line": {
          "width": 2
         },
         "marker": {
          "color": "#b2df8a",
          "size": 7,
          "symbol": "diamond"
         },
         "mode": "lines+markers",
         "name": "Random",
         "showlegend": false,
         "type": "scatter",
         "x": [
          5,
          10,
          15,
          20,
          25,
          30,
          35,
          40,
          45,
          50,
          55,
          60,
          65,
          70,
          75,
          80,
          85,
          90,
          95,
          100
         ],
         "xaxis": "x5",
         "y": [
          81,
          69,
          65,
          62,
          60,
          58,
          58,
          55,
          54,
          53,
          52,
          52,
          50,
          50,
          49,
          50,
          48,
          48,
          48,
          48
         ],
         "yaxis": "y5"
        },
        {
         "line": {
          "width": 2
         },
         "marker": {
          "color": "#fb9a99",
          "size": 7,
          "symbol": "x"
         },
         "mode": "lines+markers",
         "name": "SieveStreaming",
         "showlegend": false,
         "type": "scatter",
         "x": [
          5,
          10,
          15,
          20,
          25,
          30,
          35,
          40,
          45,
          50,
          55,
          60,
          65,
          70,
          75,
          80,
          85,
          90,
          95,
          100
         ],
         "xaxis": "x5",
         "y": [
          73,
          72,
          72,
          72,
          71,
          71,
          72,
          72,
          72,
          72,
          71,
          72,
          72,
          71,
          71,
          72,
          72,
          72,
          71,
          71
         ],
         "yaxis": "y5"
        },
        {
         "line": {
          "width": 2
         },
         "marker": {
          "color": "#e31a1c",
          "size": 7,
          "symbol": "triangle-up"
         },
         "mode": "lines+markers",
         "name": "SieveStreaming++",
         "showlegend": false,
         "type": "scatter",
         "x": [
          5,
          10,
          15,
          20,
          25,
          30,
          35,
          40,
          45,
          50,
          55,
          60,
          65,
          70,
          75,
          80,
          85,
          90,
          95,
          100
         ],
         "xaxis": "x5",
         "y": [
          99,
          99,
          99,
          99,
          99,
          99,
          99,
          99,
          99,
          99,
          99,
          99,
          99,
          99,
          99,
          99,
          99,
          99,
          99,
          99
         ],
         "yaxis": "y5"
        },
        {
         "line": {
          "width": 2
         },
         "marker": {
          "color": "#fdbf6f",
          "size": 7,
          "symbol": "triangle-down"
         },
         "mode": "lines+markers",
         "name": "ThreeSieves T = 500",
         "showlegend": false,
         "type": "scatter",
         "x": [
          5,
          10,
          15,
          20,
          25,
          30,
          35,
          40,
          45,
          50,
          55,
          60,
          65,
          70,
          75,
          80,
          85,
          90,
          95,
          100
         ],
         "xaxis": "x5",
         "y": [
          73,
          73,
          72,
          72,
          72,
          72,
          72,
          72,
          72,
          72,
          72,
          72,
          72,
          72,
          72,
          72,
          72,
          72,
          72,
          72
         ],
         "yaxis": "y5"
        },
        {
         "line": {
          "width": 2
         },
         "marker": {
          "color": "#ff7f00",
          "size": 7,
          "symbol": "triangle-left"
         },
         "mode": "lines+markers",
         "name": "ThreeSieves T = 1000",
         "showlegend": false,
         "type": "scatter",
         "x": [
          5,
          10,
          15,
          20,
          25,
          30,
          35,
          40,
          45,
          50,
          55,
          60,
          65,
          70,
          75,
          80,
          85,
          90,
          95,
          100
         ],
         "xaxis": "x5",
         "y": [
          73,
          73,
          72,
          72,
          72,
          72,
          72,
          72,
          72,
          72,
          72,
          72,
          72,
          72,
          72,
          72,
          72,
          72,
          72,
          72
         ],
         "yaxis": "y5"
        },
        {
         "line": {
          "width": 2
         },
         "marker": {
          "color": "#cab2d6",
          "size": 7,
          "symbol": "triangle-right"
         },
         "mode": "lines+markers",
         "name": "ThreeSieves T = 2500",
         "showlegend": false,
         "type": "scatter",
         "x": [
          5,
          10,
          15,
          20,
          25,
          30,
          35,
          40,
          45,
          50,
          55,
          60,
          65,
          70,
          75,
          80,
          85,
          90,
          95,
          100
         ],
         "xaxis": "x5",
         "y": [
          73,
          73,
          72,
          72,
          72,
          72,
          72,
          72,
          72,
          72,
          72,
          72,
          72,
          72,
          72,
          72,
          72,
          72,
          72,
          72
         ],
         "yaxis": "y5"
        },
        {
         "line": {
          "width": 2
         },
         "marker": {
          "color": "#6a3d9a",
          "size": 7,
          "symbol": "pentagon"
         },
         "mode": "lines+markers",
         "name": "ThreeSieves T = 5000",
         "showlegend": false,
         "type": "scatter",
         "x": [
          5,
          10,
          15,
          20,
          25,
          30,
          35,
          40,
          45,
          50,
          55,
          60,
          65,
          70,
          75,
          80,
          85,
          90,
          95,
          100
         ],
         "xaxis": "x5",
         "y": [
          73,
          73,
          72,
          72,
          72,
          72,
          72,
          72,
          72,
          72,
          72,
          72,
          72,
          72,
          72,
          72,
          72,
          72,
          72,
          72
         ],
         "yaxis": "y5"
        },
        {
         "line": {
          "width": 2
         },
         "marker": {
          "color": "#1f78b4",
          "size": 7,
          "symbol": "square"
         },
         "mode": "lines+markers",
         "name": "IndependentSetImprovement",
         "showlegend": false,
         "type": "scatter",
         "x": [
          5,
          10,
          15,
          20,
          25,
          30,
          35,
          40,
          45,
          50,
          55,
          60,
          65,
          70,
          75,
          80,
          85,
          90,
          95,
          100
         ],
         "xaxis": "x6",
         "y": [
          81,
          85,
          85,
          83,
          76,
          75,
          69,
          64,
          56,
          49,
          42,
          39,
          36,
          35,
          34,
          32,
          31,
          29,
          28,
          27
         ],
         "yaxis": "y6"
        },
        {
         "line": {
          "width": 2
         },
         "marker": {
          "color": "#b2df8a",
          "size": 7,
          "symbol": "diamond"
         },
         "mode": "lines+markers",
         "name": "Random",
         "showlegend": false,
         "type": "scatter",
         "x": [
          5,
          10,
          15,
          20,
          25,
          30,
          35,
          40,
          45,
          50,
          55,
          60,
          65,
          70,
          75,
          80,
          85,
          90,
          95,
          100
         ],
         "xaxis": "x6",
         "y": [
          66,
          51,
          44,
          39,
          36,
          33,
          32,
          31,
          29,
          28,
          27,
          26,
          26,
          24,
          24,
          23,
          23,
          23,
          23,
          22
         ],
         "yaxis": "y6"
        },
        {
         "line": {
          "width": 2
         },
         "marker": {
          "color": "#fb9a99",
          "size": 7,
          "symbol": "x"
         },
         "mode": "lines+markers",
         "name": "SieveStreaming",
         "showlegend": false,
         "type": "scatter",
         "x": [
          5,
          10,
          15,
          20,
          25,
          30,
          35,
          40,
          45,
          50,
          55,
          60,
          65,
          70,
          75,
          80,
          85,
          90,
          95,
          100
         ],
         "xaxis": "x6",
         "y": [
          85,
          95,
          97,
          96,
          95,
          96,
          96,
          96,
          96,
          96,
          96,
          96,
          96,
          96,
          96,
          97,
          97,
          97,
          96,
          97
         ],
         "yaxis": "y6"
        },
        {
         "line": {
          "width": 2
         },
         "marker": {
          "color": "#e31a1c",
          "size": 7,
          "symbol": "triangle-up"
         },
         "mode": "lines+markers",
         "name": "SieveStreaming++",
         "showlegend": false,
         "type": "scatter",
         "x": [
          5,
          10,
          15,
          20,
          25,
          30,
          35,
          40,
          45,
          50,
          55,
          60,
          65,
          70,
          75,
          80,
          85,
          90,
          95,
          100
         ],
         "xaxis": "x6",
         "y": [
          98,
          95,
          94,
          94,
          94,
          94,
          94,
          95,
          95,
          95,
          95,
          95,
          96,
          95,
          95,
          95,
          95,
          95,
          95,
          95
         ],
         "yaxis": "y6"
        },
        {
         "line": {
          "width": 2
         },
         "marker": {
          "color": "#fdbf6f",
          "size": 7,
          "symbol": "triangle-down"
         },
         "mode": "lines+markers",
         "name": "ThreeSieves T = 500",
         "showlegend": false,
         "type": "scatter",
         "x": [
          5,
          10,
          15,
          20,
          25,
          30,
          35,
          40,
          45,
          50,
          55,
          60,
          65,
          70,
          75,
          80,
          85,
          90,
          95,
          100
         ],
         "xaxis": "x6",
         "y": [
          83,
          81,
          80,
          77,
          76,
          76,
          76,
          73,
          74,
          72,
          71,
          71,
          71,
          70,
          70,
          69,
          67,
          68,
          67,
          66
         ],
         "yaxis": "y6"
        },
        {
         "line": {
          "width": 2
         },
         "marker": {
          "color": "#ff7f00",
          "size": 7,
          "symbol": "triangle-left"
         },
         "mode": "lines+markers",
         "name": "ThreeSieves T = 1000",
         "showlegend": false,
         "type": "scatter",
         "x": [
          5,
          10,
          15,
          20,
          25,
          30,
          35,
          40,
          45,
          50,
          55,
          60,
          65,
          70,
          75,
          80,
          85,
          90,
          95,
          100
         ],
         "xaxis": "x6",
         "y": [
          85,
          85,
          84,
          82,
          80,
          80,
          79,
          79,
          77,
          76,
          75,
          74,
          74,
          73,
          72,
          72,
          71,
          71,
          71,
          70
         ],
         "yaxis": "y6"
        },
        {
         "line": {
          "width": 2
         },
         "marker": {
          "color": "#cab2d6",
          "size": 7,
          "symbol": "triangle-right"
         },
         "mode": "lines+markers",
         "name": "ThreeSieves T = 2500",
         "showlegend": false,
         "type": "scatter",
         "x": [
          5,
          10,
          15,
          20,
          25,
          30,
          35,
          40,
          45,
          50,
          55,
          60,
          65,
          70,
          75,
          80,
          85,
          90,
          95,
          100
         ],
         "xaxis": "x6",
         "y": [
          85,
          87,
          85,
          83,
          83,
          83,
          82,
          82,
          82,
          81,
          81,
          81,
          82,
          82,
          81,
          81,
          81,
          80,
          80,
          80
         ],
         "yaxis": "y6"
        },
        {
         "line": {
          "width": 2
         },
         "marker": {
          "color": "#6a3d9a",
          "size": 7,
          "symbol": "pentagon"
         },
         "mode": "lines+markers",
         "name": "ThreeSieves T = 5000",
         "showlegend": false,
         "type": "scatter",
         "x": [
          5,
          10,
          15,
          20,
          25,
          30,
          35,
          40,
          45,
          50,
          55,
          60,
          65,
          70,
          75,
          80,
          85,
          90,
          95,
          100
         ],
         "xaxis": "x6",
         "y": [
          87,
          87,
          87,
          86,
          87,
          87,
          87,
          88,
          86,
          87,
          87,
          87,
          86,
          86,
          85,
          85,
          86,
          86,
          85,
          86
         ],
         "yaxis": "y6"
        }
       ],
       "layout": {
        "annotations": [
         {
          "font": {
           "size": 20
          },
          "showarrow": false,
          "text": "stream51",
          "x": 0.15666666666666665,
          "xanchor": "center",
          "xref": "paper",
          "y": 0.9999999999999999,
          "yanchor": "bottom",
          "yref": "paper"
         },
         {
          "font": {
           "size": 20
          },
          "showarrow": false,
          "text": "abc",
          "x": 0.4999999999999999,
          "xanchor": "center",
          "xref": "paper",
          "y": 0.9999999999999999,
          "yanchor": "bottom",
          "yref": "paper"
         },
         {
          "font": {
           "size": 20
          },
          "showarrow": false,
          "text": "examiner",
          "x": 0.8433333333333332,
          "xanchor": "center",
          "xref": "paper",
          "y": 0.9999999999999999,
          "yanchor": "bottom",
          "yref": "paper"
         }
        ],
        "height": 900,
        "legend": {
         "font": {
          "size": 15
         },
         "orientation": "h",
         "x": 0.03,
         "xanchor": "left",
         "y": -0.15,
         "yanchor": "bottom"
        },
        "margin": {
         "b": 5,
         "l": 5,
         "r": 20,
         "t": 25
        },
        "template": {
         "data": {
          "bar": [
           {
            "error_x": {
             "color": "rgb(36,36,36)"
            },
            "error_y": {
             "color": "rgb(36,36,36)"
            },
            "marker": {
             "line": {
              "color": "white",
              "width": 0.5
             }
            },
            "type": "bar"
           }
          ],
          "barpolar": [
           {
            "marker": {
             "line": {
              "color": "white",
              "width": 0.5
             }
            },
            "type": "barpolar"
           }
          ],
          "carpet": [
           {
            "aaxis": {
             "endlinecolor": "rgb(36,36,36)",
             "gridcolor": "white",
             "linecolor": "white",
             "minorgridcolor": "white",
             "startlinecolor": "rgb(36,36,36)"
            },
            "baxis": {
             "endlinecolor": "rgb(36,36,36)",
             "gridcolor": "white",
             "linecolor": "white",
             "minorgridcolor": "white",
             "startlinecolor": "rgb(36,36,36)"
            },
            "type": "carpet"
           }
          ],
          "choropleth": [
           {
            "colorbar": {
             "outlinewidth": 1,
             "tickcolor": "rgb(36,36,36)",
             "ticks": "outside"
            },
            "type": "choropleth"
           }
          ],
          "contour": [
           {
            "colorbar": {
             "outlinewidth": 1,
             "tickcolor": "rgb(36,36,36)",
             "ticks": "outside"
            },
            "colorscale": [
             [
              0,
              "#440154"
             ],
             [
              0.1111111111111111,
              "#482878"
             ],
             [
              0.2222222222222222,
              "#3e4989"
             ],
             [
              0.3333333333333333,
              "#31688e"
             ],
             [
              0.4444444444444444,
              "#26828e"
             ],
             [
              0.5555555555555556,
              "#1f9e89"
             ],
             [
              0.6666666666666666,
              "#35b779"
             ],
             [
              0.7777777777777778,
              "#6ece58"
             ],
             [
              0.8888888888888888,
              "#b5de2b"
             ],
             [
              1,
              "#fde725"
             ]
            ],
            "type": "contour"
           }
          ],
          "contourcarpet": [
           {
            "colorbar": {
             "outlinewidth": 1,
             "tickcolor": "rgb(36,36,36)",
             "ticks": "outside"
            },
            "type": "contourcarpet"
           }
          ],
          "heatmap": [
           {
            "colorbar": {
             "outlinewidth": 1,
             "tickcolor": "rgb(36,36,36)",
             "ticks": "outside"
            },
            "colorscale": [
             [
              0,
              "#440154"
             ],
             [
              0.1111111111111111,
              "#482878"
             ],
             [
              0.2222222222222222,
              "#3e4989"
             ],
             [
              0.3333333333333333,
              "#31688e"
             ],
             [
              0.4444444444444444,
              "#26828e"
             ],
             [
              0.5555555555555556,
              "#1f9e89"
             ],
             [
              0.6666666666666666,
              "#35b779"
             ],
             [
              0.7777777777777778,
              "#6ece58"
             ],
             [
              0.8888888888888888,
              "#b5de2b"
             ],
             [
              1,
              "#fde725"
             ]
            ],
            "type": "heatmap"
           }
          ],
          "heatmapgl": [
           {
            "colorbar": {
             "outlinewidth": 1,
             "tickcolor": "rgb(36,36,36)",
             "ticks": "outside"
            },
            "colorscale": [
             [
              0,
              "#440154"
             ],
             [
              0.1111111111111111,
              "#482878"
             ],
             [
              0.2222222222222222,
              "#3e4989"
             ],
             [
              0.3333333333333333,
              "#31688e"
             ],
             [
              0.4444444444444444,
              "#26828e"
             ],
             [
              0.5555555555555556,
              "#1f9e89"
             ],
             [
              0.6666666666666666,
              "#35b779"
             ],
             [
              0.7777777777777778,
              "#6ece58"
             ],
             [
              0.8888888888888888,
              "#b5de2b"
             ],
             [
              1,
              "#fde725"
             ]
            ],
            "type": "heatmapgl"
           }
          ],
          "histogram": [
           {
            "marker": {
             "line": {
              "color": "white",
              "width": 0.6
             }
            },
            "type": "histogram"
           }
          ],
          "histogram2d": [
           {
            "colorbar": {
             "outlinewidth": 1,
             "tickcolor": "rgb(36,36,36)",
             "ticks": "outside"
            },
            "colorscale": [
             [
              0,
              "#440154"
             ],
             [
              0.1111111111111111,
              "#482878"
             ],
             [
              0.2222222222222222,
              "#3e4989"
             ],
             [
              0.3333333333333333,
              "#31688e"
             ],
             [
              0.4444444444444444,
              "#26828e"
             ],
             [
              0.5555555555555556,
              "#1f9e89"
             ],
             [
              0.6666666666666666,
              "#35b779"
             ],
             [
              0.7777777777777778,
              "#6ece58"
             ],
             [
              0.8888888888888888,
              "#b5de2b"
             ],
             [
              1,
              "#fde725"
             ]
            ],
            "type": "histogram2d"
           }
          ],
          "histogram2dcontour": [
           {
            "colorbar": {
             "outlinewidth": 1,
             "tickcolor": "rgb(36,36,36)",
             "ticks": "outside"
            },
            "colorscale": [
             [
              0,
              "#440154"
             ],
             [
              0.1111111111111111,
              "#482878"
             ],
             [
              0.2222222222222222,
              "#3e4989"
             ],
             [
              0.3333333333333333,
              "#31688e"
             ],
             [
              0.4444444444444444,
              "#26828e"
             ],
             [
              0.5555555555555556,
              "#1f9e89"
             ],
             [
              0.6666666666666666,
              "#35b779"
             ],
             [
              0.7777777777777778,
              "#6ece58"
             ],
             [
              0.8888888888888888,
              "#b5de2b"
             ],
             [
              1,
              "#fde725"
             ]
            ],
            "type": "histogram2dcontour"
           }
          ],
          "mesh3d": [
           {
            "colorbar": {
             "outlinewidth": 1,
             "tickcolor": "rgb(36,36,36)",
             "ticks": "outside"
            },
            "type": "mesh3d"
           }
          ],
          "parcoords": [
           {
            "line": {
             "colorbar": {
              "outlinewidth": 1,
              "tickcolor": "rgb(36,36,36)",
              "ticks": "outside"
             }
            },
            "type": "parcoords"
           }
          ],
          "pie": [
           {
            "automargin": true,
            "type": "pie"
           }
          ],
          "scatter": [
           {
            "marker": {
             "colorbar": {
              "outlinewidth": 1,
              "tickcolor": "rgb(36,36,36)",
              "ticks": "outside"
             }
            },
            "type": "scatter"
           }
          ],
          "scatter3d": [
           {
            "line": {
             "colorbar": {
              "outlinewidth": 1,
              "tickcolor": "rgb(36,36,36)",
              "ticks": "outside"
             }
            },
            "marker": {
             "colorbar": {
              "outlinewidth": 1,
              "tickcolor": "rgb(36,36,36)",
              "ticks": "outside"
             }
            },
            "type": "scatter3d"
           }
          ],
          "scattercarpet": [
           {
            "marker": {
             "colorbar": {
              "outlinewidth": 1,
              "tickcolor": "rgb(36,36,36)",
              "ticks": "outside"
             }
            },
            "type": "scattercarpet"
           }
          ],
          "scattergeo": [
           {
            "marker": {
             "colorbar": {
              "outlinewidth": 1,
              "tickcolor": "rgb(36,36,36)",
              "ticks": "outside"
             }
            },
            "type": "scattergeo"
           }
          ],
          "scattergl": [
           {
            "marker": {
             "colorbar": {
              "outlinewidth": 1,
              "tickcolor": "rgb(36,36,36)",
              "ticks": "outside"
             }
            },
            "type": "scattergl"
           }
          ],
          "scattermapbox": [
           {
            "marker": {
             "colorbar": {
              "outlinewidth": 1,
              "tickcolor": "rgb(36,36,36)",
              "ticks": "outside"
             }
            },
            "type": "scattermapbox"
           }
          ],
          "scatterpolar": [
           {
            "marker": {
             "colorbar": {
              "outlinewidth": 1,
              "tickcolor": "rgb(36,36,36)",
              "ticks": "outside"
             }
            },
            "type": "scatterpolar"
           }
          ],
          "scatterpolargl": [
           {
            "marker": {
             "colorbar": {
              "outlinewidth": 1,
              "tickcolor": "rgb(36,36,36)",
              "ticks": "outside"
             }
            },
            "type": "scatterpolargl"
           }
          ],
          "scatterternary": [
           {
            "marker": {
             "colorbar": {
              "outlinewidth": 1,
              "tickcolor": "rgb(36,36,36)",
              "ticks": "outside"
             }
            },
            "type": "scatterternary"
           }
          ],
          "surface": [
           {
            "colorbar": {
             "outlinewidth": 1,
             "tickcolor": "rgb(36,36,36)",
             "ticks": "outside"
            },
            "colorscale": [
             [
              0,
              "#440154"
             ],
             [
              0.1111111111111111,
              "#482878"
             ],
             [
              0.2222222222222222,
              "#3e4989"
             ],
             [
              0.3333333333333333,
              "#31688e"
             ],
             [
              0.4444444444444444,
              "#26828e"
             ],
             [
              0.5555555555555556,
              "#1f9e89"
             ],
             [
              0.6666666666666666,
              "#35b779"
             ],
             [
              0.7777777777777778,
              "#6ece58"
             ],
             [
              0.8888888888888888,
              "#b5de2b"
             ],
             [
              1,
              "#fde725"
             ]
            ],
            "type": "surface"
           }
          ],
          "table": [
           {
            "cells": {
             "fill": {
              "color": "rgb(237,237,237)"
             },
             "line": {
              "color": "white"
             }
            },
            "header": {
             "fill": {
              "color": "rgb(217,217,217)"
             },
             "line": {
              "color": "white"
             }
            },
            "type": "table"
           }
          ]
         },
         "layout": {
          "annotationdefaults": {
           "arrowhead": 0,
           "arrowwidth": 1
          },
          "coloraxis": {
           "colorbar": {
            "outlinewidth": 1,
            "tickcolor": "rgb(36,36,36)",
            "ticks": "outside"
           }
          },
          "colorscale": {
           "diverging": [
            [
             0,
             "rgb(103,0,31)"
            ],
            [
             0.1,
             "rgb(178,24,43)"
            ],
            [
             0.2,
             "rgb(214,96,77)"
            ],
            [
             0.3,
             "rgb(244,165,130)"
            ],
            [
             0.4,
             "rgb(253,219,199)"
            ],
            [
             0.5,
             "rgb(247,247,247)"
            ],
            [
             0.6,
             "rgb(209,229,240)"
            ],
            [
             0.7,
             "rgb(146,197,222)"
            ],
            [
             0.8,
             "rgb(67,147,195)"
            ],
            [
             0.9,
             "rgb(33,102,172)"
            ],
            [
             1,
             "rgb(5,48,97)"
            ]
           ],
           "sequential": [
            [
             0,
             "#440154"
            ],
            [
             0.1111111111111111,
             "#482878"
            ],
            [
             0.2222222222222222,
             "#3e4989"
            ],
            [
             0.3333333333333333,
             "#31688e"
            ],
            [
             0.4444444444444444,
             "#26828e"
            ],
            [
             0.5555555555555556,
             "#1f9e89"
            ],
            [
             0.6666666666666666,
             "#35b779"
            ],
            [
             0.7777777777777778,
             "#6ece58"
            ],
            [
             0.8888888888888888,
             "#b5de2b"
            ],
            [
             1,
             "#fde725"
            ]
           ],
           "sequentialminus": [
            [
             0,
             "#440154"
            ],
            [
             0.1111111111111111,
             "#482878"
            ],
            [
             0.2222222222222222,
             "#3e4989"
            ],
            [
             0.3333333333333333,
             "#31688e"
            ],
            [
             0.4444444444444444,
             "#26828e"
            ],
            [
             0.5555555555555556,
             "#1f9e89"
            ],
            [
             0.6666666666666666,
             "#35b779"
            ],
            [
             0.7777777777777778,
             "#6ece58"
            ],
            [
             0.8888888888888888,
             "#b5de2b"
            ],
            [
             1,
             "#fde725"
            ]
           ]
          },
          "colorway": [
           "#1F77B4",
           "#FF7F0E",
           "#2CA02C",
           "#D62728",
           "#9467BD",
           "#8C564B",
           "#E377C2",
           "#7F7F7F",
           "#BCBD22",
           "#17BECF"
          ],
          "font": {
           "color": "rgb(36,36,36)"
          },
          "geo": {
           "bgcolor": "white",
           "lakecolor": "white",
           "landcolor": "white",
           "showlakes": true,
           "showland": true,
           "subunitcolor": "white"
          },
          "hoverlabel": {
           "align": "left"
          },
          "hovermode": "closest",
          "mapbox": {
           "style": "light"
          },
          "paper_bgcolor": "white",
          "plot_bgcolor": "white",
          "polar": {
           "angularaxis": {
            "gridcolor": "rgb(232,232,232)",
            "linecolor": "rgb(36,36,36)",
            "showgrid": false,
            "showline": true,
            "ticks": "outside"
           },
           "bgcolor": "white",
           "radialaxis": {
            "gridcolor": "rgb(232,232,232)",
            "linecolor": "rgb(36,36,36)",
            "showgrid": false,
            "showline": true,
            "ticks": "outside"
           }
          },
          "scene": {
           "xaxis": {
            "backgroundcolor": "white",
            "gridcolor": "rgb(232,232,232)",
            "gridwidth": 2,
            "linecolor": "rgb(36,36,36)",
            "showbackground": true,
            "showgrid": false,
            "showline": true,
            "ticks": "outside",
            "zeroline": false,
            "zerolinecolor": "rgb(36,36,36)"
           },
           "yaxis": {
            "backgroundcolor": "white",
            "gridcolor": "rgb(232,232,232)",
            "gridwidth": 2,
            "linecolor": "rgb(36,36,36)",
            "showbackground": true,
            "showgrid": false,
            "showline": true,
            "ticks": "outside",
            "zeroline": false,
            "zerolinecolor": "rgb(36,36,36)"
           },
           "zaxis": {
            "backgroundcolor": "white",
            "gridcolor": "rgb(232,232,232)",
            "gridwidth": 2,
            "linecolor": "rgb(36,36,36)",
            "showbackground": true,
            "showgrid": false,
            "showline": true,
            "ticks": "outside",
            "zeroline": false,
            "zerolinecolor": "rgb(36,36,36)"
           }
          },
          "shapedefaults": {
           "fillcolor": "black",
           "line": {
            "width": 0
           },
           "opacity": 0.3
          },
          "ternary": {
           "aaxis": {
            "gridcolor": "rgb(232,232,232)",
            "linecolor": "rgb(36,36,36)",
            "showgrid": false,
            "showline": true,
            "ticks": "outside"
           },
           "baxis": {
            "gridcolor": "rgb(232,232,232)",
            "linecolor": "rgb(36,36,36)",
            "showgrid": false,
            "showline": true,
            "ticks": "outside"
           },
           "bgcolor": "white",
           "caxis": {
            "gridcolor": "rgb(232,232,232)",
            "linecolor": "rgb(36,36,36)",
            "showgrid": false,
            "showline": true,
            "ticks": "outside"
           }
          },
          "title": {
           "x": 0.05
          },
          "xaxis": {
           "automargin": true,
           "gridcolor": "rgb(232,232,232)",
           "linecolor": "rgb(36,36,36)",
           "showgrid": false,
           "showline": true,
           "ticks": "outside",
           "title": {
            "standoff": 15
           },
           "zeroline": false,
           "zerolinecolor": "rgb(36,36,36)"
          },
          "yaxis": {
           "automargin": true,
           "gridcolor": "rgb(232,232,232)",
           "linecolor": "rgb(36,36,36)",
           "showgrid": false,
           "showline": true,
           "ticks": "outside",
           "title": {
            "standoff": 15
           },
           "zeroline": false,
           "zerolinecolor": "rgb(36,36,36)"
          }
         }
        },
        "width": 1100,
        "xaxis": {
         "anchor": "y",
         "domain": [
          0,
          0.3133333333333333
         ],
         "dtick": 10,
         "linewidth": 2,
         "tickfont": {
          "size": 13
         },
         "title": {
          "font": {
           "size": 18
          }
         }
        },
        "xaxis2": {
         "anchor": "y2",
         "domain": [
          0.34333333333333327,
          0.6566666666666665
         ],
         "dtick": 10,
         "linewidth": 2,
         "tickfont": {
          "size": 13
         },
         "title": {
          "font": {
           "size": 18
          }
         }
        },
        "xaxis3": {
         "anchor": "y3",
         "domain": [
          0.6866666666666665,
          0.9999999999999998
         ],
         "dtick": 10,
         "linewidth": 2,
         "tickfont": {
          "size": 13
         },
         "title": {
          "font": {
           "size": 18
          }
         }
        },
        "xaxis4": {
         "anchor": "y4",
         "domain": [
          0,
          0.3133333333333333
         ],
         "dtick": 10,
         "linewidth": 2,
         "tickfont": {
          "size": 13
         },
         "title": {
          "font": {
           "size": 18
          },
          "text": "K"
         }
        },
        "xaxis5": {
         "anchor": "y5",
         "domain": [
          0.34333333333333327,
          0.6566666666666665
         ],
         "dtick": 10,
         "linewidth": 2,
         "tickfont": {
          "size": 13
         },
         "title": {
          "font": {
           "size": 18
          },
          "text": "K"
         }
        },
        "xaxis6": {
         "anchor": "y6",
         "domain": [
          0.6866666666666665,
          0.9999999999999998
         ],
         "dtick": 10,
         "linewidth": 2,
         "tickfont": {
          "size": 13
         },
         "title": {
          "font": {
           "size": 18
          },
          "text": "K"
         }
        },
        "yaxis": {
         "anchor": "x",
         "domain": [
          0.5349999999999999,
          0.9999999999999999
         ],
         "linewidth": 2,
         "tickfont": {
          "size": 13
         },
         "title": {
          "font": {
           "size": 18
          },
          "standoff": 25,
          "text": "Relative Performance"
         }
        },
        "yaxis2": {
         "anchor": "x2",
         "domain": [
          0.5349999999999999,
          0.9999999999999999
         ],
         "linewidth": 2,
         "tickfont": {
          "size": 13
         },
         "title": {
          "font": {
           "size": 18
          }
         }
        },
        "yaxis3": {
         "anchor": "x3",
         "domain": [
          0.5349999999999999,
          0.9999999999999999
         ],
         "linewidth": 2,
         "tickfont": {
          "size": 13
         },
         "title": {
          "font": {
           "size": 18
          }
         }
        },
        "yaxis4": {
         "anchor": "x4",
         "domain": [
          0,
          0.46499999999999997
         ],
         "linewidth": 2,
         "tickfont": {
          "size": 13
         },
         "title": {
          "font": {
           "size": 18
          },
          "standoff": 25,
          "text": "Relative Performance"
         }
        },
        "yaxis5": {
         "anchor": "x5",
         "domain": [
          0,
          0.46499999999999997
         ],
         "linewidth": 2,
         "tickfont": {
          "size": 13
         },
         "title": {
          "font": {
           "size": 18
          }
         }
        },
        "yaxis6": {
         "anchor": "x6",
         "domain": [
          0,
          0.46499999999999997
         ],
         "linewidth": 2,
         "tickfont": {
          "size": 13
         },
         "title": {
          "font": {
           "size": 18
          }
         }
        }
       }
      },
      "text/html": [
       "<div>\n",
       "        \n",
       "        \n",
       "            <div id=\"de9b184c-c8d5-4a63-bc52-1fcfc43e1c8a\" class=\"plotly-graph-div\" style=\"height:900px; width:1100px;\"></div>\n",
       "            <script type=\"text/javascript\">\n",
       "                require([\"plotly\"], function(Plotly) {\n",
       "                    window.PLOTLYENV=window.PLOTLYENV || {};\n",
       "                    \n",
       "                if (document.getElementById(\"de9b184c-c8d5-4a63-bc52-1fcfc43e1c8a\")) {\n",
       "                    Plotly.newPlot(\n",
       "                        'de9b184c-c8d5-4a63-bc52-1fcfc43e1c8a',\n",
       "                        [{\"line\": {\"width\": 2}, \"marker\": {\"color\": \"#1f78b4\", \"size\": 7, \"symbol\": \"square\"}, \"mode\": \"lines+markers\", \"name\": \"IndependentSetImprovement\", \"showlegend\": true, \"type\": \"scatter\", \"x\": [5, 10, 15, 20, 25, 30, 35, 40, 45, 50, 55, 60, 65, 70, 75, 80, 85, 90, 95, 100], \"xaxis\": \"x\", \"y\": [85, 83, 85, 83, 87, 85, 87, 86, 88, 87, 88, 90, 90, 90, 90, 90, 90, 90, 91, 91], \"yaxis\": \"y\"}, {\"line\": {\"width\": 2}, \"marker\": {\"color\": \"#b2df8a\", \"size\": 7, \"symbol\": \"diamond\"}, \"mode\": \"lines+markers\", \"name\": \"Random\", \"showlegend\": true, \"type\": \"scatter\", \"x\": [5, 10, 15, 20, 25, 30, 35, 40, 45, 50, 55, 60, 65, 70, 75, 80, 85, 90, 95, 100], \"xaxis\": \"x\", \"y\": [84, 76, 71, 69, 67, 67, 66, 66, 65, 65, 63, 63, 64, 64, 64, 63, 64, 63, 63, 64], \"yaxis\": \"y\"}, {\"line\": {\"width\": 2}, \"marker\": {\"color\": \"#fb9a99\", \"size\": 7, \"symbol\": \"x\"}, \"mode\": \"lines+markers\", \"name\": \"SieveStreaming\", \"showlegend\": true, \"type\": \"scatter\", \"x\": [5, 10, 15, 20, 25, 30, 35, 40, 45, 50, 55, 60, 65, 70, 75, 80, 85, 90, 95, 100], \"xaxis\": \"x\", \"y\": [72, 82, 83, 85, 84, 86, 91, 89, 88, 88, 89, 90, 93, 95, 90, 93, 88, 92, 88, 92], \"yaxis\": \"y\"}, {\"line\": {\"width\": 2}, \"marker\": {\"color\": \"#e31a1c\", \"size\": 7, \"symbol\": \"triangle-up\"}, \"mode\": \"lines+markers\", \"name\": \"SieveStreaming++\", \"showlegend\": true, \"type\": \"scatter\", \"x\": [5, 10, 15, 20, 25, 30, 35, 40, 45, 50, 55, 60, 65, 70, 75, 80, 85, 90, 95, 100], \"xaxis\": \"x\", \"y\": [93, 89, 92, 94, 88, 90, 91, 92, 93, 94, 95, 88, 89, 89, 90, 91, 91, 92, 92, 93], \"yaxis\": \"y\"}, {\"line\": {\"width\": 2}, \"marker\": {\"color\": \"#fdbf6f\", \"size\": 7, \"symbol\": \"triangle-down\"}, \"mode\": \"lines+markers\", \"name\": \"ThreeSieves T = 500\", \"showlegend\": true, \"type\": \"scatter\", \"x\": [5, 10, 15, 20, 25, 30, 35, 40, 45, 50, 55, 60, 65, 70, 75, 80, 85, 90, 95, 100], \"xaxis\": \"x\", \"y\": [79, 74, 75, 77, 72, 73, 75, 73, 73, 73, 72, 71, 71, 72, 68, 70, 68, 69, 74, 69], \"yaxis\": \"y\"}, {\"line\": {\"width\": 2}, \"marker\": {\"color\": \"#ff7f00\", \"size\": 7, \"symbol\": \"triangle-left\"}, \"mode\": \"lines+markers\", \"name\": \"ThreeSieves T = 1000\", \"showlegend\": true, \"type\": \"scatter\", \"x\": [5, 10, 15, 20, 25, 30, 35, 40, 45, 50, 55, 60, 65, 70, 75, 80, 85, 90, 95, 100], \"xaxis\": \"x\", \"y\": [79, 83, 84, 77, 77, 78, 83, 81, 80, 80, 81, 82, 77, 79, 74, 77, 80, 77, 80, 77], \"yaxis\": \"y\"}, {\"line\": {\"width\": 2}, \"marker\": {\"color\": \"#cab2d6\", \"size\": 7, \"symbol\": \"triangle-right\"}, \"mode\": \"lines+markers\", \"name\": \"ThreeSieves T = 2500\", \"showlegend\": true, \"type\": \"scatter\", \"x\": [5, 10, 15, 20, 25, 30, 35, 40, 45, 50, 55, 60, 65, 70, 75, 80, 85, 90, 95, 100], \"xaxis\": \"x\", \"y\": [79, 83, 86, 88, 84, 86, 83, 89, 88, 88, 89, 82, 84, 87, 90, 85, 88, 84, 88, 84], \"yaxis\": \"y\"}, {\"line\": {\"width\": 2}, \"marker\": {\"color\": \"#6a3d9a\", \"size\": 7, \"symbol\": \"pentagon\"}, \"mode\": \"lines+markers\", \"name\": \"ThreeSieves T = 5000\", \"showlegend\": true, \"type\": \"scatter\", \"x\": [5, 10, 15, 20, 25, 30, 35, 40, 45, 50, 55, 60, 65, 70, 75, 80, 85, 90, 95, 100], \"xaxis\": \"x\", \"y\": [79, 83, 86, 89, 88, 86, 91, 89, 88, 88, 89, 90, 84, 87, 90, 85, 88, 92, 88, 92], \"yaxis\": \"y\"}, {\"line\": {\"width\": 2}, \"marker\": {\"color\": \"#1f78b4\", \"size\": 7, \"symbol\": \"square\"}, \"mode\": \"lines+markers\", \"name\": \"IndependentSetImprovement\", \"showlegend\": false, \"type\": \"scatter\", \"x\": [5, 10, 15, 20, 25, 30, 35, 40, 45, 50, 55, 60, 65, 70, 75, 80, 85, 90, 95, 100], \"xaxis\": \"x2\", \"y\": [73, 70, 75, 73, 77, 76, 77, 79, 81, 81, 81, 82, 81, 82, 82, 81, 82, 82, 82, 82], \"yaxis\": \"y2\"}, {\"line\": {\"width\": 2}, \"marker\": {\"color\": \"#b2df8a\", \"size\": 7, \"symbol\": \"diamond\"}, \"mode\": \"lines+markers\", \"name\": \"Random\", \"showlegend\": false, \"type\": \"scatter\", \"x\": [5, 10, 15, 20, 25, 30, 35, 40, 45, 50, 55, 60, 65, 70, 75, 80, 85, 90, 95, 100], \"xaxis\": \"x2\", \"y\": [81, 69, 65, 62, 60, 58, 58, 55, 54, 53, 52, 52, 50, 50, 49, 50, 48, 48, 48, 48], \"yaxis\": \"y2\"}, {\"line\": {\"width\": 2}, \"marker\": {\"color\": \"#fb9a99\", \"size\": 7, \"symbol\": \"x\"}, \"mode\": \"lines+markers\", \"name\": \"SieveStreaming\", \"showlegend\": false, \"type\": \"scatter\", \"x\": [5, 10, 15, 20, 25, 30, 35, 40, 45, 50, 55, 60, 65, 70, 75, 80, 85, 90, 95, 100], \"xaxis\": \"x2\", \"y\": [73, 71, 69, 69, 67, 67, 70, 67, 66, 72, 72, 66, 67, 68, 70, 66, 68, 71, 67, 70], \"yaxis\": \"y2\"}, {\"line\": {\"width\": 2}, \"marker\": {\"color\": \"#e31a1c\", \"size\": 7, \"symbol\": \"triangle-up\"}, \"mode\": \"lines+markers\", \"name\": \"SieveStreaming++\", \"showlegend\": false, \"type\": \"scatter\", \"x\": [5, 10, 15, 20, 25, 30, 35, 40, 45, 50, 55, 60, 65, 70, 75, 80, 85, 90, 95, 100], \"xaxis\": \"x2\", \"y\": [99, 99, 99, 99, 99, 99, 99, 99, 99, 99, 99, 99, 99, 99, 99, 99, 99, 99, 99, 99], \"yaxis\": \"y2\"}, {\"line\": {\"width\": 2}, \"marker\": {\"color\": \"#fdbf6f\", \"size\": 7, \"symbol\": \"triangle-down\"}, \"mode\": \"lines+markers\", \"name\": \"ThreeSieves T = 500\", \"showlegend\": false, \"type\": \"scatter\", \"x\": [5, 10, 15, 20, 25, 30, 35, 40, 45, 50, 55, 60, 65, 70, 75, 80, 85, 90, 95, 100], \"xaxis\": \"x2\", \"y\": [73, 73, 72, 72, 72, 72, 72, 72, 72, 72, 72, 72, 72, 72, 72, 72, 72, 72, 72, 72], \"yaxis\": \"y2\"}, {\"line\": {\"width\": 2}, \"marker\": {\"color\": \"#ff7f00\", \"size\": 7, \"symbol\": \"triangle-left\"}, \"mode\": \"lines+markers\", \"name\": \"ThreeSieves T = 1000\", \"showlegend\": false, \"type\": \"scatter\", \"x\": [5, 10, 15, 20, 25, 30, 35, 40, 45, 50, 55, 60, 65, 70, 75, 80, 85, 90, 95, 100], \"xaxis\": \"x2\", \"y\": [73, 73, 72, 72, 72, 72, 72, 72, 72, 72, 72, 72, 72, 72, 72, 72, 72, 72, 72, 72], \"yaxis\": \"y2\"}, {\"line\": {\"width\": 2}, \"marker\": {\"color\": \"#cab2d6\", \"size\": 7, \"symbol\": \"triangle-right\"}, \"mode\": \"lines+markers\", \"name\": \"ThreeSieves T = 2500\", \"showlegend\": false, \"type\": \"scatter\", \"x\": [5, 10, 15, 20, 25, 30, 35, 40, 45, 50, 55, 60, 65, 70, 75, 80, 85, 90, 95, 100], \"xaxis\": \"x2\", \"y\": [73, 73, 72, 72, 72, 72, 72, 72, 72, 72, 72, 72, 72, 72, 72, 72, 72, 72, 72, 72], \"yaxis\": \"y2\"}, {\"line\": {\"width\": 2}, \"marker\": {\"color\": \"#6a3d9a\", \"size\": 7, \"symbol\": \"pentagon\"}, \"mode\": \"lines+markers\", \"name\": \"ThreeSieves T = 5000\", \"showlegend\": false, \"type\": \"scatter\", \"x\": [5, 10, 15, 20, 25, 30, 35, 40, 45, 50, 55, 60, 65, 70, 75, 80, 85, 90, 95, 100], \"xaxis\": \"x2\", \"y\": [73, 73, 72, 72, 72, 72, 72, 72, 72, 72, 72, 72, 72, 72, 72, 72, 72, 72, 72, 72], \"yaxis\": \"y2\"}, {\"line\": {\"width\": 2}, \"marker\": {\"color\": \"#1f78b4\", \"size\": 7, \"symbol\": \"square\"}, \"mode\": \"lines+markers\", \"name\": \"IndependentSetImprovement\", \"showlegend\": false, \"type\": \"scatter\", \"x\": [5, 10, 15, 20, 25, 30, 35, 40, 45, 50, 55, 60, 65, 70, 75, 80, 85, 90, 95, 100], \"xaxis\": \"x3\", \"y\": [81, 85, 85, 83, 76, 75, 69, 64, 56, 49, 42, 39, 36, 35, 34, 32, 31, 29, 28, 27], \"yaxis\": \"y3\"}, {\"line\": {\"width\": 2}, \"marker\": {\"color\": \"#b2df8a\", \"size\": 7, \"symbol\": \"diamond\"}, \"mode\": \"lines+markers\", \"name\": \"Random\", \"showlegend\": false, \"type\": \"scatter\", \"x\": [5, 10, 15, 20, 25, 30, 35, 40, 45, 50, 55, 60, 65, 70, 75, 80, 85, 90, 95, 100], \"xaxis\": \"x3\", \"y\": [66, 51, 44, 39, 36, 33, 32, 31, 29, 28, 27, 26, 26, 24, 24, 23, 23, 23, 23, 22], \"yaxis\": \"y3\"}, {\"line\": {\"width\": 2}, \"marker\": {\"color\": \"#fb9a99\", \"size\": 7, \"symbol\": \"x\"}, \"mode\": \"lines+markers\", \"name\": \"SieveStreaming\", \"showlegend\": false, \"type\": \"scatter\", \"x\": [5, 10, 15, 20, 25, 30, 35, 40, 45, 50, 55, 60, 65, 70, 75, 80, 85, 90, 95, 100], \"xaxis\": \"x3\", \"y\": [79, 93, 89, 93, 94, 89, 94, 93, 93, 93, 95, 88, 91, 94, 89, 93, 97, 92, 97, 93], \"yaxis\": \"y3\"}, {\"line\": {\"width\": 2}, \"marker\": {\"color\": \"#e31a1c\", \"size\": 7, \"symbol\": \"triangle-up\"}, \"mode\": \"lines+markers\", \"name\": \"SieveStreaming++\", \"showlegend\": false, \"type\": \"scatter\", \"x\": [5, 10, 15, 20, 25, 30, 35, 40, 45, 50, 55, 60, 65, 70, 75, 80, 85, 90, 95, 100], \"xaxis\": \"x3\", \"y\": [96, 88, 94, 92, 94, 89, 92, 93, 95, 90, 89, 90, 91, 92, 93, 94, 95, 95, 93, 89], \"yaxis\": \"y3\"}, {\"line\": {\"width\": 2}, \"marker\": {\"color\": \"#fdbf6f\", \"size\": 7, \"symbol\": \"triangle-down\"}, \"mode\": \"lines+markers\", \"name\": \"ThreeSieves T = 500\", \"showlegend\": false, \"type\": \"scatter\", \"x\": [5, 10, 15, 20, 25, 30, 35, 40, 45, 50, 55, 60, 65, 70, 75, 80, 85, 90, 95, 100], \"xaxis\": \"x3\", \"y\": [79, 71, 67, 63, 58, 61, 59, 58, 57, 58, 59, 55, 56, 53, 55, 52, 54, 52, 50, 52], \"yaxis\": \"y3\"}, {\"line\": {\"width\": 2}, \"marker\": {\"color\": \"#ff7f00\", \"size\": 7, \"symbol\": \"triangle-left\"}, \"mode\": \"lines+markers\", \"name\": \"ThreeSieves T = 1000\", \"showlegend\": false, \"type\": \"scatter\", \"x\": [5, 10, 15, 20, 25, 30, 35, 40, 45, 50, 55, 60, 65, 70, 75, 80, 85, 90, 95, 100], \"xaxis\": \"x3\", \"y\": [79, 78, 67, 70, 71, 66, 67, 63, 64, 64, 65, 66, 62, 64, 67, 63, 60, 59, 60, 57], \"yaxis\": \"y3\"}, {\"line\": {\"width\": 2}, \"marker\": {\"color\": \"#cab2d6\", \"size\": 7, \"symbol\": \"triangle-right\"}, \"mode\": \"lines+markers\", \"name\": \"ThreeSieves T = 2500\", \"showlegend\": false, \"type\": \"scatter\", \"x\": [5, 10, 15, 20, 25, 30, 35, 40, 45, 50, 55, 60, 65, 70, 75, 80, 85, 90, 95, 100], \"xaxis\": \"x3\", \"y\": [79, 85, 81, 77, 71, 81, 78, 77, 77, 77, 78, 73, 75, 78, 73, 76, 72, 69, 73, 70], \"yaxis\": \"y3\"}, {\"line\": {\"width\": 2}, \"marker\": {\"color\": \"#6a3d9a\", \"size\": 7, \"symbol\": \"pentagon\"}, \"mode\": \"lines+markers\", \"name\": \"ThreeSieves T = 5000\", \"showlegend\": false, \"type\": \"scatter\", \"x\": [5, 10, 15, 20, 25, 30, 35, 40, 45, 50, 55, 60, 65, 70, 75, 80, 85, 90, 95, 100], \"xaxis\": \"x3\", \"y\": [87, 77, 81, 85, 79, 81, 78, 77, 77, 77, 78, 73, 75, 78, 81, 76, 80, 76, 80, 77], \"yaxis\": \"y3\"}, {\"line\": {\"width\": 2}, \"marker\": {\"color\": \"#1f78b4\", \"size\": 7, \"symbol\": \"square\"}, \"mode\": \"lines+markers\", \"name\": \"IndependentSetImprovement\", \"showlegend\": false, \"type\": \"scatter\", \"x\": [5, 10, 15, 20, 25, 30, 35, 40, 45, 50, 55, 60, 65, 70, 75, 80, 85, 90, 95, 100], \"xaxis\": \"x4\", \"y\": [85, 83, 85, 83, 87, 85, 87, 86, 88, 87, 88, 90, 90, 90, 90, 90, 90, 90, 91, 91], \"yaxis\": \"y4\"}, {\"line\": {\"width\": 2}, \"marker\": {\"color\": \"#b2df8a\", \"size\": 7, \"symbol\": \"diamond\"}, \"mode\": \"lines+markers\", \"name\": \"Random\", \"showlegend\": false, \"type\": \"scatter\", \"x\": [5, 10, 15, 20, 25, 30, 35, 40, 45, 50, 55, 60, 65, 70, 75, 80, 85, 90, 95, 100], \"xaxis\": \"x4\", \"y\": [84, 76, 71, 69, 67, 67, 66, 66, 65, 65, 63, 63, 64, 64, 64, 63, 64, 63, 63, 64], \"yaxis\": \"y4\"}, {\"line\": {\"width\": 2}, \"marker\": {\"color\": \"#fb9a99\", \"size\": 7, \"symbol\": \"x\"}, \"mode\": \"lines+markers\", \"name\": \"SieveStreaming\", \"showlegend\": false, \"type\": \"scatter\", \"x\": [5, 10, 15, 20, 25, 30, 35, 40, 45, 50, 55, 60, 65, 70, 75, 80, 85, 90, 95, 100], \"xaxis\": \"x4\", \"y\": [78, 83, 86, 88, 90, 91, 93, 94, 96, 96, 96, 96, 96, 95, 95, 95, 96, 95, 96, 95], \"yaxis\": \"y4\"}, {\"line\": {\"width\": 2}, \"marker\": {\"color\": \"#e31a1c\", \"size\": 7, \"symbol\": \"triangle-up\"}, \"mode\": \"lines+markers\", \"name\": \"SieveStreaming++\", \"showlegend\": false, \"type\": \"scatter\", \"x\": [5, 10, 15, 20, 25, 30, 35, 40, 45, 50, 55, 60, 65, 70, 75, 80, 85, 90, 95, 100], \"xaxis\": \"x4\", \"y\": [98, 96, 94, 95, 95, 95, 95, 94, 95, 95, 94, 94, 95, 95, 95, 95, 95, 95, 95, 95], \"yaxis\": \"y4\"}, {\"line\": {\"width\": 2}, \"marker\": {\"color\": \"#fdbf6f\", \"size\": 7, \"symbol\": \"triangle-down\"}, \"mode\": \"lines+markers\", \"name\": \"ThreeSieves T = 500\", \"showlegend\": false, \"type\": \"scatter\", \"x\": [5, 10, 15, 20, 25, 30, 35, 40, 45, 50, 55, 60, 65, 70, 75, 80, 85, 90, 95, 100], \"xaxis\": \"x4\", \"y\": [79, 82, 83, 83, 85, 85, 85, 85, 85, 85, 85, 85, 83, 83, 82, 82, 82, 82, 81, 81], \"yaxis\": \"y4\"}, {\"line\": {\"width\": 2}, \"marker\": {\"color\": \"#ff7f00\", \"size\": 7, \"symbol\": \"triangle-left\"}, \"mode\": \"lines+markers\", \"name\": \"ThreeSieves T = 1000\", \"showlegend\": false, \"type\": \"scatter\", \"x\": [5, 10, 15, 20, 25, 30, 35, 40, 45, 50, 55, 60, 65, 70, 75, 80, 85, 90, 95, 100], \"xaxis\": \"x4\", \"y\": [79, 83, 86, 87, 88, 87, 87, 87, 88, 87, 87, 88, 88, 89, 88, 89, 89, 89, 89, 90], \"yaxis\": \"y4\"}, {\"line\": {\"width\": 2}, \"marker\": {\"color\": \"#cab2d6\", \"size\": 7, \"symbol\": \"triangle-right\"}, \"mode\": \"lines+markers\", \"name\": \"ThreeSieves T = 2500\", \"showlegend\": false, \"type\": \"scatter\", \"x\": [5, 10, 15, 20, 25, 30, 35, 40, 45, 50, 55, 60, 65, 70, 75, 80, 85, 90, 95, 100], \"xaxis\": \"x4\", \"y\": [79, 83, 86, 89, 89, 90, 91, 91, 92, 91, 91, 92, 91, 91, 92, 93, 93, 93, 93, 93], \"yaxis\": \"y4\"}, {\"line\": {\"width\": 2}, \"marker\": {\"color\": \"#6a3d9a\", \"size\": 7, \"symbol\": \"pentagon\"}, \"mode\": \"lines+markers\", \"name\": \"ThreeSieves T = 5000\", \"showlegend\": false, \"type\": \"scatter\", \"x\": [5, 10, 15, 20, 25, 30, 35, 40, 45, 50, 55, 60, 65, 70, 75, 80, 85, 90, 95, 100], \"xaxis\": \"x4\", \"y\": [79, 83, 86, 89, 90, 91, 93, 93, 93, 93, 94, 94, 95, 95, 96, 96, 96, 96, 97, 89], \"yaxis\": \"y4\"}, {\"line\": {\"width\": 2}, \"marker\": {\"color\": \"#1f78b4\", \"size\": 7, \"symbol\": \"square\"}, \"mode\": \"lines+markers\", \"name\": \"IndependentSetImprovement\", \"showlegend\": false, \"type\": \"scatter\", \"x\": [5, 10, 15, 20, 25, 30, 35, 40, 45, 50, 55, 60, 65, 70, 75, 80, 85, 90, 95, 100], \"xaxis\": \"x5\", \"y\": [73, 70, 75, 73, 77, 76, 77, 79, 81, 81, 81, 82, 81, 82, 82, 81, 82, 82, 82, 82], \"yaxis\": \"y5\"}, {\"line\": {\"width\": 2}, \"marker\": {\"color\": \"#b2df8a\", \"size\": 7, \"symbol\": \"diamond\"}, \"mode\": \"lines+markers\", \"name\": \"Random\", \"showlegend\": false, \"type\": \"scatter\", \"x\": [5, 10, 15, 20, 25, 30, 35, 40, 45, 50, 55, 60, 65, 70, 75, 80, 85, 90, 95, 100], \"xaxis\": \"x5\", \"y\": [81, 69, 65, 62, 60, 58, 58, 55, 54, 53, 52, 52, 50, 50, 49, 50, 48, 48, 48, 48], \"yaxis\": \"y5\"}, {\"line\": {\"width\": 2}, \"marker\": {\"color\": \"#fb9a99\", \"size\": 7, \"symbol\": \"x\"}, \"mode\": \"lines+markers\", \"name\": \"SieveStreaming\", \"showlegend\": false, \"type\": \"scatter\", \"x\": [5, 10, 15, 20, 25, 30, 35, 40, 45, 50, 55, 60, 65, 70, 75, 80, 85, 90, 95, 100], \"xaxis\": \"x5\", \"y\": [73, 72, 72, 72, 71, 71, 72, 72, 72, 72, 71, 72, 72, 71, 71, 72, 72, 72, 71, 71], \"yaxis\": \"y5\"}, {\"line\": {\"width\": 2}, \"marker\": {\"color\": \"#e31a1c\", \"size\": 7, \"symbol\": \"triangle-up\"}, \"mode\": \"lines+markers\", \"name\": \"SieveStreaming++\", \"showlegend\": false, \"type\": \"scatter\", \"x\": [5, 10, 15, 20, 25, 30, 35, 40, 45, 50, 55, 60, 65, 70, 75, 80, 85, 90, 95, 100], \"xaxis\": \"x5\", \"y\": [99, 99, 99, 99, 99, 99, 99, 99, 99, 99, 99, 99, 99, 99, 99, 99, 99, 99, 99, 99], \"yaxis\": \"y5\"}, {\"line\": {\"width\": 2}, \"marker\": {\"color\": \"#fdbf6f\", \"size\": 7, \"symbol\": \"triangle-down\"}, \"mode\": \"lines+markers\", \"name\": \"ThreeSieves T = 500\", \"showlegend\": false, \"type\": \"scatter\", \"x\": [5, 10, 15, 20, 25, 30, 35, 40, 45, 50, 55, 60, 65, 70, 75, 80, 85, 90, 95, 100], \"xaxis\": \"x5\", \"y\": [73, 73, 72, 72, 72, 72, 72, 72, 72, 72, 72, 72, 72, 72, 72, 72, 72, 72, 72, 72], \"yaxis\": \"y5\"}, {\"line\": {\"width\": 2}, \"marker\": {\"color\": \"#ff7f00\", \"size\": 7, \"symbol\": \"triangle-left\"}, \"mode\": \"lines+markers\", \"name\": \"ThreeSieves T = 1000\", \"showlegend\": false, \"type\": \"scatter\", \"x\": [5, 10, 15, 20, 25, 30, 35, 40, 45, 50, 55, 60, 65, 70, 75, 80, 85, 90, 95, 100], \"xaxis\": \"x5\", \"y\": [73, 73, 72, 72, 72, 72, 72, 72, 72, 72, 72, 72, 72, 72, 72, 72, 72, 72, 72, 72], \"yaxis\": \"y5\"}, {\"line\": {\"width\": 2}, \"marker\": {\"color\": \"#cab2d6\", \"size\": 7, \"symbol\": \"triangle-right\"}, \"mode\": \"lines+markers\", \"name\": \"ThreeSieves T = 2500\", \"showlegend\": false, \"type\": \"scatter\", \"x\": [5, 10, 15, 20, 25, 30, 35, 40, 45, 50, 55, 60, 65, 70, 75, 80, 85, 90, 95, 100], \"xaxis\": \"x5\", \"y\": [73, 73, 72, 72, 72, 72, 72, 72, 72, 72, 72, 72, 72, 72, 72, 72, 72, 72, 72, 72], \"yaxis\": \"y5\"}, {\"line\": {\"width\": 2}, \"marker\": {\"color\": \"#6a3d9a\", \"size\": 7, \"symbol\": \"pentagon\"}, \"mode\": \"lines+markers\", \"name\": \"ThreeSieves T = 5000\", \"showlegend\": false, \"type\": \"scatter\", \"x\": [5, 10, 15, 20, 25, 30, 35, 40, 45, 50, 55, 60, 65, 70, 75, 80, 85, 90, 95, 100], \"xaxis\": \"x5\", \"y\": [73, 73, 72, 72, 72, 72, 72, 72, 72, 72, 72, 72, 72, 72, 72, 72, 72, 72, 72, 72], \"yaxis\": \"y5\"}, {\"line\": {\"width\": 2}, \"marker\": {\"color\": \"#1f78b4\", \"size\": 7, \"symbol\": \"square\"}, \"mode\": \"lines+markers\", \"name\": \"IndependentSetImprovement\", \"showlegend\": false, \"type\": \"scatter\", \"x\": [5, 10, 15, 20, 25, 30, 35, 40, 45, 50, 55, 60, 65, 70, 75, 80, 85, 90, 95, 100], \"xaxis\": \"x6\", \"y\": [81, 85, 85, 83, 76, 75, 69, 64, 56, 49, 42, 39, 36, 35, 34, 32, 31, 29, 28, 27], \"yaxis\": \"y6\"}, {\"line\": {\"width\": 2}, \"marker\": {\"color\": \"#b2df8a\", \"size\": 7, \"symbol\": \"diamond\"}, \"mode\": \"lines+markers\", \"name\": \"Random\", \"showlegend\": false, \"type\": \"scatter\", \"x\": [5, 10, 15, 20, 25, 30, 35, 40, 45, 50, 55, 60, 65, 70, 75, 80, 85, 90, 95, 100], \"xaxis\": \"x6\", \"y\": [66, 51, 44, 39, 36, 33, 32, 31, 29, 28, 27, 26, 26, 24, 24, 23, 23, 23, 23, 22], \"yaxis\": \"y6\"}, {\"line\": {\"width\": 2}, \"marker\": {\"color\": \"#fb9a99\", \"size\": 7, \"symbol\": \"x\"}, \"mode\": \"lines+markers\", \"name\": \"SieveStreaming\", \"showlegend\": false, \"type\": \"scatter\", \"x\": [5, 10, 15, 20, 25, 30, 35, 40, 45, 50, 55, 60, 65, 70, 75, 80, 85, 90, 95, 100], \"xaxis\": \"x6\", \"y\": [85, 95, 97, 96, 95, 96, 96, 96, 96, 96, 96, 96, 96, 96, 96, 97, 97, 97, 96, 97], \"yaxis\": \"y6\"}, {\"line\": {\"width\": 2}, \"marker\": {\"color\": \"#e31a1c\", \"size\": 7, \"symbol\": \"triangle-up\"}, \"mode\": \"lines+markers\", \"name\": \"SieveStreaming++\", \"showlegend\": false, \"type\": \"scatter\", \"x\": [5, 10, 15, 20, 25, 30, 35, 40, 45, 50, 55, 60, 65, 70, 75, 80, 85, 90, 95, 100], \"xaxis\": \"x6\", \"y\": [98, 95, 94, 94, 94, 94, 94, 95, 95, 95, 95, 95, 96, 95, 95, 95, 95, 95, 95, 95], \"yaxis\": \"y6\"}, {\"line\": {\"width\": 2}, \"marker\": {\"color\": \"#fdbf6f\", \"size\": 7, \"symbol\": \"triangle-down\"}, \"mode\": \"lines+markers\", \"name\": \"ThreeSieves T = 500\", \"showlegend\": false, \"type\": \"scatter\", \"x\": [5, 10, 15, 20, 25, 30, 35, 40, 45, 50, 55, 60, 65, 70, 75, 80, 85, 90, 95, 100], \"xaxis\": \"x6\", \"y\": [83, 81, 80, 77, 76, 76, 76, 73, 74, 72, 71, 71, 71, 70, 70, 69, 67, 68, 67, 66], \"yaxis\": \"y6\"}, {\"line\": {\"width\": 2}, \"marker\": {\"color\": \"#ff7f00\", \"size\": 7, \"symbol\": \"triangle-left\"}, \"mode\": \"lines+markers\", \"name\": \"ThreeSieves T = 1000\", \"showlegend\": false, \"type\": \"scatter\", \"x\": [5, 10, 15, 20, 25, 30, 35, 40, 45, 50, 55, 60, 65, 70, 75, 80, 85, 90, 95, 100], \"xaxis\": \"x6\", \"y\": [85, 85, 84, 82, 80, 80, 79, 79, 77, 76, 75, 74, 74, 73, 72, 72, 71, 71, 71, 70], \"yaxis\": \"y6\"}, {\"line\": {\"width\": 2}, \"marker\": {\"color\": \"#cab2d6\", \"size\": 7, \"symbol\": \"triangle-right\"}, \"mode\": \"lines+markers\", \"name\": \"ThreeSieves T = 2500\", \"showlegend\": false, \"type\": \"scatter\", \"x\": [5, 10, 15, 20, 25, 30, 35, 40, 45, 50, 55, 60, 65, 70, 75, 80, 85, 90, 95, 100], \"xaxis\": \"x6\", \"y\": [85, 87, 85, 83, 83, 83, 82, 82, 82, 81, 81, 81, 82, 82, 81, 81, 81, 80, 80, 80], \"yaxis\": \"y6\"}, {\"line\": {\"width\": 2}, \"marker\": {\"color\": \"#6a3d9a\", \"size\": 7, \"symbol\": \"pentagon\"}, \"mode\": \"lines+markers\", \"name\": \"ThreeSieves T = 5000\", \"showlegend\": false, \"type\": \"scatter\", \"x\": [5, 10, 15, 20, 25, 30, 35, 40, 45, 50, 55, 60, 65, 70, 75, 80, 85, 90, 95, 100], \"xaxis\": \"x6\", \"y\": [87, 87, 87, 86, 87, 87, 87, 88, 86, 87, 87, 87, 86, 86, 85, 85, 86, 86, 85, 86], \"yaxis\": \"y6\"}],\n",
       "                        {\"annotations\": [{\"font\": {\"size\": 20}, \"showarrow\": false, \"text\": \"stream51\", \"x\": 0.15666666666666665, \"xanchor\": \"center\", \"xref\": \"paper\", \"y\": 0.9999999999999999, \"yanchor\": \"bottom\", \"yref\": \"paper\"}, {\"font\": {\"size\": 20}, \"showarrow\": false, \"text\": \"abc\", \"x\": 0.4999999999999999, \"xanchor\": \"center\", \"xref\": \"paper\", \"y\": 0.9999999999999999, \"yanchor\": \"bottom\", \"yref\": \"paper\"}, {\"font\": {\"size\": 20}, \"showarrow\": false, \"text\": \"examiner\", \"x\": 0.8433333333333332, \"xanchor\": \"center\", \"xref\": \"paper\", \"y\": 0.9999999999999999, \"yanchor\": \"bottom\", \"yref\": \"paper\"}], \"height\": 900, \"legend\": {\"font\": {\"size\": 15}, \"orientation\": \"h\", \"x\": 0.03, \"xanchor\": \"left\", \"y\": -0.15, \"yanchor\": \"bottom\"}, \"margin\": {\"b\": 5, \"l\": 5, \"r\": 20, \"t\": 25}, \"template\": {\"data\": {\"bar\": [{\"error_x\": {\"color\": \"rgb(36,36,36)\"}, \"error_y\": {\"color\": \"rgb(36,36,36)\"}, \"marker\": {\"line\": {\"color\": \"white\", \"width\": 0.5}}, \"type\": \"bar\"}], \"barpolar\": [{\"marker\": {\"line\": {\"color\": \"white\", \"width\": 0.5}}, \"type\": \"barpolar\"}], \"carpet\": [{\"aaxis\": {\"endlinecolor\": \"rgb(36,36,36)\", \"gridcolor\": \"white\", \"linecolor\": \"white\", \"minorgridcolor\": \"white\", \"startlinecolor\": \"rgb(36,36,36)\"}, \"baxis\": {\"endlinecolor\": \"rgb(36,36,36)\", \"gridcolor\": \"white\", \"linecolor\": \"white\", \"minorgridcolor\": \"white\", \"startlinecolor\": \"rgb(36,36,36)\"}, \"type\": \"carpet\"}], \"choropleth\": [{\"colorbar\": {\"outlinewidth\": 1, \"tickcolor\": \"rgb(36,36,36)\", \"ticks\": \"outside\"}, \"type\": \"choropleth\"}], \"contour\": [{\"colorbar\": {\"outlinewidth\": 1, \"tickcolor\": \"rgb(36,36,36)\", \"ticks\": \"outside\"}, \"colorscale\": [[0.0, \"#440154\"], [0.1111111111111111, \"#482878\"], [0.2222222222222222, \"#3e4989\"], [0.3333333333333333, \"#31688e\"], [0.4444444444444444, \"#26828e\"], [0.5555555555555556, \"#1f9e89\"], [0.6666666666666666, \"#35b779\"], [0.7777777777777778, \"#6ece58\"], [0.8888888888888888, \"#b5de2b\"], [1.0, \"#fde725\"]], \"type\": \"contour\"}], \"contourcarpet\": [{\"colorbar\": {\"outlinewidth\": 1, \"tickcolor\": \"rgb(36,36,36)\", \"ticks\": \"outside\"}, \"type\": \"contourcarpet\"}], \"heatmap\": [{\"colorbar\": {\"outlinewidth\": 1, \"tickcolor\": \"rgb(36,36,36)\", \"ticks\": \"outside\"}, \"colorscale\": [[0.0, \"#440154\"], [0.1111111111111111, \"#482878\"], [0.2222222222222222, \"#3e4989\"], [0.3333333333333333, \"#31688e\"], [0.4444444444444444, \"#26828e\"], [0.5555555555555556, \"#1f9e89\"], [0.6666666666666666, \"#35b779\"], [0.7777777777777778, \"#6ece58\"], [0.8888888888888888, \"#b5de2b\"], [1.0, \"#fde725\"]], \"type\": \"heatmap\"}], \"heatmapgl\": [{\"colorbar\": {\"outlinewidth\": 1, \"tickcolor\": \"rgb(36,36,36)\", \"ticks\": \"outside\"}, \"colorscale\": [[0.0, \"#440154\"], [0.1111111111111111, \"#482878\"], [0.2222222222222222, \"#3e4989\"], [0.3333333333333333, \"#31688e\"], [0.4444444444444444, \"#26828e\"], [0.5555555555555556, \"#1f9e89\"], [0.6666666666666666, \"#35b779\"], [0.7777777777777778, \"#6ece58\"], [0.8888888888888888, \"#b5de2b\"], [1.0, \"#fde725\"]], \"type\": \"heatmapgl\"}], \"histogram\": [{\"marker\": {\"line\": {\"color\": \"white\", \"width\": 0.6}}, \"type\": \"histogram\"}], \"histogram2d\": [{\"colorbar\": {\"outlinewidth\": 1, \"tickcolor\": \"rgb(36,36,36)\", \"ticks\": \"outside\"}, \"colorscale\": [[0.0, \"#440154\"], [0.1111111111111111, \"#482878\"], [0.2222222222222222, \"#3e4989\"], [0.3333333333333333, \"#31688e\"], [0.4444444444444444, \"#26828e\"], [0.5555555555555556, \"#1f9e89\"], [0.6666666666666666, \"#35b779\"], [0.7777777777777778, \"#6ece58\"], [0.8888888888888888, \"#b5de2b\"], [1.0, \"#fde725\"]], \"type\": \"histogram2d\"}], \"histogram2dcontour\": [{\"colorbar\": {\"outlinewidth\": 1, \"tickcolor\": \"rgb(36,36,36)\", \"ticks\": \"outside\"}, \"colorscale\": [[0.0, \"#440154\"], [0.1111111111111111, \"#482878\"], [0.2222222222222222, \"#3e4989\"], [0.3333333333333333, \"#31688e\"], [0.4444444444444444, \"#26828e\"], [0.5555555555555556, \"#1f9e89\"], [0.6666666666666666, \"#35b779\"], [0.7777777777777778, \"#6ece58\"], [0.8888888888888888, \"#b5de2b\"], [1.0, \"#fde725\"]], \"type\": \"histogram2dcontour\"}], \"mesh3d\": [{\"colorbar\": {\"outlinewidth\": 1, \"tickcolor\": \"rgb(36,36,36)\", \"ticks\": \"outside\"}, \"type\": \"mesh3d\"}], \"parcoords\": [{\"line\": {\"colorbar\": {\"outlinewidth\": 1, \"tickcolor\": \"rgb(36,36,36)\", \"ticks\": \"outside\"}}, \"type\": \"parcoords\"}], \"pie\": [{\"automargin\": true, \"type\": \"pie\"}], \"scatter\": [{\"marker\": {\"colorbar\": {\"outlinewidth\": 1, \"tickcolor\": \"rgb(36,36,36)\", \"ticks\": \"outside\"}}, \"type\": \"scatter\"}], \"scatter3d\": [{\"line\": {\"colorbar\": {\"outlinewidth\": 1, \"tickcolor\": \"rgb(36,36,36)\", \"ticks\": \"outside\"}}, \"marker\": {\"colorbar\": {\"outlinewidth\": 1, \"tickcolor\": \"rgb(36,36,36)\", \"ticks\": \"outside\"}}, \"type\": \"scatter3d\"}], \"scattercarpet\": [{\"marker\": {\"colorbar\": {\"outlinewidth\": 1, \"tickcolor\": \"rgb(36,36,36)\", \"ticks\": \"outside\"}}, \"type\": \"scattercarpet\"}], \"scattergeo\": [{\"marker\": {\"colorbar\": {\"outlinewidth\": 1, \"tickcolor\": \"rgb(36,36,36)\", \"ticks\": \"outside\"}}, \"type\": \"scattergeo\"}], \"scattergl\": [{\"marker\": {\"colorbar\": {\"outlinewidth\": 1, \"tickcolor\": \"rgb(36,36,36)\", \"ticks\": \"outside\"}}, \"type\": \"scattergl\"}], \"scattermapbox\": [{\"marker\": {\"colorbar\": {\"outlinewidth\": 1, \"tickcolor\": \"rgb(36,36,36)\", \"ticks\": \"outside\"}}, \"type\": \"scattermapbox\"}], \"scatterpolar\": [{\"marker\": {\"colorbar\": {\"outlinewidth\": 1, \"tickcolor\": \"rgb(36,36,36)\", \"ticks\": \"outside\"}}, \"type\": \"scatterpolar\"}], \"scatterpolargl\": [{\"marker\": {\"colorbar\": {\"outlinewidth\": 1, \"tickcolor\": \"rgb(36,36,36)\", \"ticks\": \"outside\"}}, \"type\": \"scatterpolargl\"}], \"scatterternary\": [{\"marker\": {\"colorbar\": {\"outlinewidth\": 1, \"tickcolor\": \"rgb(36,36,36)\", \"ticks\": \"outside\"}}, \"type\": \"scatterternary\"}], \"surface\": [{\"colorbar\": {\"outlinewidth\": 1, \"tickcolor\": \"rgb(36,36,36)\", \"ticks\": \"outside\"}, \"colorscale\": [[0.0, \"#440154\"], [0.1111111111111111, \"#482878\"], [0.2222222222222222, \"#3e4989\"], [0.3333333333333333, \"#31688e\"], [0.4444444444444444, \"#26828e\"], [0.5555555555555556, \"#1f9e89\"], [0.6666666666666666, \"#35b779\"], [0.7777777777777778, \"#6ece58\"], [0.8888888888888888, \"#b5de2b\"], [1.0, \"#fde725\"]], \"type\": \"surface\"}], \"table\": [{\"cells\": {\"fill\": {\"color\": \"rgb(237,237,237)\"}, \"line\": {\"color\": \"white\"}}, \"header\": {\"fill\": {\"color\": \"rgb(217,217,217)\"}, \"line\": {\"color\": \"white\"}}, \"type\": \"table\"}]}, \"layout\": {\"annotationdefaults\": {\"arrowhead\": 0, \"arrowwidth\": 1}, \"coloraxis\": {\"colorbar\": {\"outlinewidth\": 1, \"tickcolor\": \"rgb(36,36,36)\", \"ticks\": \"outside\"}}, \"colorscale\": {\"diverging\": [[0.0, \"rgb(103,0,31)\"], [0.1, \"rgb(178,24,43)\"], [0.2, \"rgb(214,96,77)\"], [0.3, \"rgb(244,165,130)\"], [0.4, \"rgb(253,219,199)\"], [0.5, \"rgb(247,247,247)\"], [0.6, \"rgb(209,229,240)\"], [0.7, \"rgb(146,197,222)\"], [0.8, \"rgb(67,147,195)\"], [0.9, \"rgb(33,102,172)\"], [1.0, \"rgb(5,48,97)\"]], \"sequential\": [[0.0, \"#440154\"], [0.1111111111111111, \"#482878\"], [0.2222222222222222, \"#3e4989\"], [0.3333333333333333, \"#31688e\"], [0.4444444444444444, \"#26828e\"], [0.5555555555555556, \"#1f9e89\"], [0.6666666666666666, \"#35b779\"], [0.7777777777777778, \"#6ece58\"], [0.8888888888888888, \"#b5de2b\"], [1.0, \"#fde725\"]], \"sequentialminus\": [[0.0, \"#440154\"], [0.1111111111111111, \"#482878\"], [0.2222222222222222, \"#3e4989\"], [0.3333333333333333, \"#31688e\"], [0.4444444444444444, \"#26828e\"], [0.5555555555555556, \"#1f9e89\"], [0.6666666666666666, \"#35b779\"], [0.7777777777777778, \"#6ece58\"], [0.8888888888888888, \"#b5de2b\"], [1.0, \"#fde725\"]]}, \"colorway\": [\"#1F77B4\", \"#FF7F0E\", \"#2CA02C\", \"#D62728\", \"#9467BD\", \"#8C564B\", \"#E377C2\", \"#7F7F7F\", \"#BCBD22\", \"#17BECF\"], \"font\": {\"color\": \"rgb(36,36,36)\"}, \"geo\": {\"bgcolor\": \"white\", \"lakecolor\": \"white\", \"landcolor\": \"white\", \"showlakes\": true, \"showland\": true, \"subunitcolor\": \"white\"}, \"hoverlabel\": {\"align\": \"left\"}, \"hovermode\": \"closest\", \"mapbox\": {\"style\": \"light\"}, \"paper_bgcolor\": \"white\", \"plot_bgcolor\": \"white\", \"polar\": {\"angularaxis\": {\"gridcolor\": \"rgb(232,232,232)\", \"linecolor\": \"rgb(36,36,36)\", \"showgrid\": false, \"showline\": true, \"ticks\": \"outside\"}, \"bgcolor\": \"white\", \"radialaxis\": {\"gridcolor\": \"rgb(232,232,232)\", \"linecolor\": \"rgb(36,36,36)\", \"showgrid\": false, \"showline\": true, \"ticks\": \"outside\"}}, \"scene\": {\"xaxis\": {\"backgroundcolor\": \"white\", \"gridcolor\": \"rgb(232,232,232)\", \"gridwidth\": 2, \"linecolor\": \"rgb(36,36,36)\", \"showbackground\": true, \"showgrid\": false, \"showline\": true, \"ticks\": \"outside\", \"zeroline\": false, \"zerolinecolor\": \"rgb(36,36,36)\"}, \"yaxis\": {\"backgroundcolor\": \"white\", \"gridcolor\": \"rgb(232,232,232)\", \"gridwidth\": 2, \"linecolor\": \"rgb(36,36,36)\", \"showbackground\": true, \"showgrid\": false, \"showline\": true, \"ticks\": \"outside\", \"zeroline\": false, \"zerolinecolor\": \"rgb(36,36,36)\"}, \"zaxis\": {\"backgroundcolor\": \"white\", \"gridcolor\": \"rgb(232,232,232)\", \"gridwidth\": 2, \"linecolor\": \"rgb(36,36,36)\", \"showbackground\": true, \"showgrid\": false, \"showline\": true, \"ticks\": \"outside\", \"zeroline\": false, \"zerolinecolor\": \"rgb(36,36,36)\"}}, \"shapedefaults\": {\"fillcolor\": \"black\", \"line\": {\"width\": 0}, \"opacity\": 0.3}, \"ternary\": {\"aaxis\": {\"gridcolor\": \"rgb(232,232,232)\", \"linecolor\": \"rgb(36,36,36)\", \"showgrid\": false, \"showline\": true, \"ticks\": \"outside\"}, \"baxis\": {\"gridcolor\": \"rgb(232,232,232)\", \"linecolor\": \"rgb(36,36,36)\", \"showgrid\": false, \"showline\": true, \"ticks\": \"outside\"}, \"bgcolor\": \"white\", \"caxis\": {\"gridcolor\": \"rgb(232,232,232)\", \"linecolor\": \"rgb(36,36,36)\", \"showgrid\": false, \"showline\": true, \"ticks\": \"outside\"}}, \"title\": {\"x\": 0.05}, \"xaxis\": {\"automargin\": true, \"gridcolor\": \"rgb(232,232,232)\", \"linecolor\": \"rgb(36,36,36)\", \"showgrid\": false, \"showline\": true, \"ticks\": \"outside\", \"title\": {\"standoff\": 15}, \"zeroline\": false, \"zerolinecolor\": \"rgb(36,36,36)\"}, \"yaxis\": {\"automargin\": true, \"gridcolor\": \"rgb(232,232,232)\", \"linecolor\": \"rgb(36,36,36)\", \"showgrid\": false, \"showline\": true, \"ticks\": \"outside\", \"title\": {\"standoff\": 15}, \"zeroline\": false, \"zerolinecolor\": \"rgb(36,36,36)\"}}}, \"width\": 1100, \"xaxis\": {\"anchor\": \"y\", \"domain\": [0.0, 0.3133333333333333], \"dtick\": 10, \"linewidth\": 2, \"tickfont\": {\"size\": 13}, \"title\": {\"font\": {\"size\": 18}}}, \"xaxis2\": {\"anchor\": \"y2\", \"domain\": [0.34333333333333327, 0.6566666666666665], \"dtick\": 10, \"linewidth\": 2, \"tickfont\": {\"size\": 13}, \"title\": {\"font\": {\"size\": 18}}}, \"xaxis3\": {\"anchor\": \"y3\", \"domain\": [0.6866666666666665, 0.9999999999999998], \"dtick\": 10, \"linewidth\": 2, \"tickfont\": {\"size\": 13}, \"title\": {\"font\": {\"size\": 18}}}, \"xaxis4\": {\"anchor\": \"y4\", \"domain\": [0.0, 0.3133333333333333], \"dtick\": 10, \"linewidth\": 2, \"tickfont\": {\"size\": 13}, \"title\": {\"font\": {\"size\": 18}, \"text\": \"K\"}}, \"xaxis5\": {\"anchor\": \"y5\", \"domain\": [0.34333333333333327, 0.6566666666666665], \"dtick\": 10, \"linewidth\": 2, \"tickfont\": {\"size\": 13}, \"title\": {\"font\": {\"size\": 18}, \"text\": \"K\"}}, \"xaxis6\": {\"anchor\": \"y6\", \"domain\": [0.6866666666666665, 0.9999999999999998], \"dtick\": 10, \"linewidth\": 2, \"tickfont\": {\"size\": 13}, \"title\": {\"font\": {\"size\": 18}, \"text\": \"K\"}}, \"yaxis\": {\"anchor\": \"x\", \"domain\": [0.5349999999999999, 0.9999999999999999], \"linewidth\": 2, \"tickfont\": {\"size\": 13}, \"title\": {\"font\": {\"size\": 18}, \"standoff\": 25, \"text\": \"Relative Performance\"}}, \"yaxis2\": {\"anchor\": \"x2\", \"domain\": [0.5349999999999999, 0.9999999999999999], \"linewidth\": 2, \"tickfont\": {\"size\": 13}, \"title\": {\"font\": {\"size\": 18}}}, \"yaxis3\": {\"anchor\": \"x3\", \"domain\": [0.5349999999999999, 0.9999999999999999], \"linewidth\": 2, \"tickfont\": {\"size\": 13}, \"title\": {\"font\": {\"size\": 18}}}, \"yaxis4\": {\"anchor\": \"x4\", \"domain\": [0.0, 0.46499999999999997], \"linewidth\": 2, \"tickfont\": {\"size\": 13}, \"title\": {\"font\": {\"size\": 18}, \"standoff\": 25, \"text\": \"Relative Performance\"}}, \"yaxis5\": {\"anchor\": \"x5\", \"domain\": [0.0, 0.46499999999999997], \"linewidth\": 2, \"tickfont\": {\"size\": 13}, \"title\": {\"font\": {\"size\": 18}}}, \"yaxis6\": {\"anchor\": \"x6\", \"domain\": [0.0, 0.46499999999999997], \"linewidth\": 2, \"tickfont\": {\"size\": 13}, \"title\": {\"font\": {\"size\": 18}}}},\n",
       "                        {\"responsive\": true}\n",
       "                    ).then(function(){\n",
       "                            \n",
       "var gd = document.getElementById('de9b184c-c8d5-4a63-bc52-1fcfc43e1c8a');\n",
       "var x = new MutationObserver(function (mutations, observer) {{\n",
       "        var display = window.getComputedStyle(gd).display;\n",
       "        if (!display || display === 'none') {{\n",
       "            console.log([gd, 'removed!']);\n",
       "            Plotly.purge(gd);\n",
       "            observer.disconnect();\n",
       "        }}\n",
       "}});\n",
       "\n",
       "// Listen for the removal of the full notebook cells\n",
       "var notebookContainer = gd.closest('#notebook-container');\n",
       "if (notebookContainer) {{\n",
       "    x.observe(notebookContainer, {childList: true});\n",
       "}}\n",
       "\n",
       "// Listen for the clearing of the current output cell\n",
       "var outputEl = gd.closest('.output');\n",
       "if (outputEl) {{\n",
       "    x.observe(outputEl, {childList: true});\n",
       "}}\n",
       "\n",
       "                        })\n",
       "                };\n",
       "                });\n",
       "            </script>\n",
       "        </div>"
      ]
     },
     "metadata": {},
     "output_type": "display_data"
    }
   ],
   "source": [
    "import numpy as np\n",
    "import pandas as pd\n",
    "import os\n",
    "from plotly.subplots import make_subplots\n",
    "import plotly.graph_objects as go\n",
    "import plotly.express as px\n",
    "import plotly.io as pio\n",
    "\n",
    "# Take the same colors / markers from the previous plots\n",
    "# Comment-out this code if there are no previous experiments\n",
    "#colors = {}\n",
    "#markers = {}\n",
    "#for n, c, m in zip(natural_sort(dfs[0][\"nice_name\"].unique()), paired, raw_markers):\n",
    "#    colors[n] = c\n",
    "#    markers[n] = m \n",
    "\n",
    "datasets = [\"stream51\", \"abc\", \"examiner\"] \n",
    "dfs = []\n",
    "\n",
    "for d in datasets:\n",
    "    df = read_data(os.path.join(\"experiments\", d, \"results\", \"results.jsonl\"))\n",
    "    df[\"nice_name\"] = df.apply(nice_name,axis=1)\n",
    "    df[\"scores.relative_performance\"] = df.apply(relative_performance,axis=1)\n",
    "    df[\"scores.max_memory\"] = df.apply(max_memory,axis=1)\n",
    "    df[\"dataset\"] = d\n",
    "    dfs.append(df)\n",
    "\n",
    "fig = make_subplots(rows=2, cols=3, subplot_titles=datasets, horizontal_spacing = 0.03, vertical_spacing = 0.07)\n",
    "for i in fig['layout']['annotations']:\n",
    "    i['font']['size'] = 20 \n",
    "\n",
    "for i in range(3):\n",
    "    for j in range(4):\n",
    "        fig.update_yaxes(row = i, col = j, title_font = {\"size\": 18}, linewidth = 2, tickfont = {\"size\":13})\n",
    "        fig.update_xaxes(row = i, col = j, title_font = {\"size\": 18}, linewidth = 2, tickfont = {\"size\":13})\n",
    "\n",
    "queries = [\n",
    "    \"(method != \\\"Greedy\\\") &(sigma == {}) & (epsilon == 0.1 | epsilon != epsilon) & (T != T | T == 500 | T == 1000 | T == 2500 | T == 5000)\".format(dfs[0][\"sigma\"].unique()[4]),\n",
    "    \"(method != \\\"Greedy\\\") &(sigma == {}) & (epsilon == 0.1 | epsilon != epsilon) & (T != T | T == 500 | T == 1000 | T == 2500 | T == 5000)\".format(dfs[1][\"sigma\"].unique()[0]),\n",
    "    \"(method != \\\"Greedy\\\") &(sigma == {}) & (epsilon == 0.1 | epsilon != epsilon) & (T != T | T == 500 | T == 1000 | T == 2500 | T == 5000)\".format(dfs[2][\"sigma\"].unique()[3])\n",
    "]\n",
    "\n",
    "for i, df in enumerate(dfs):\n",
    "    dff = df.query(queries[i])\n",
    "    for name in natural_sort(dff[\"nice_name\"].unique()):\n",
    "        df_method = dff.loc[ dff[\"nice_name\"] == name]\n",
    "        df_method = df_method.sort_values(by = [\"K\"])\n",
    "\n",
    "        fig.add_trace(\n",
    "            go.Scatter(x = df_method[\"K\"], y = df_method[\"scores.relative_performance\"], name = name, line = {\"width\":2}, mode='lines+markers', showlegend = i == 0, \n",
    "                marker=dict(color = colors[name], size=7, symbol=markers[name])\n",
    "            ), row = 1, col = i + 1\n",
    "        )\n",
    "\n",
    "queries = [\n",
    "    \"(method != \\\"Greedy\\\") &(sigma == {}) & (epsilon == 0.01 | epsilon != epsilon) & (T != T | T == 500 | T == 1000 | T == 2500 | T == 5000)\".format(dfs[0][\"sigma\"].unique()[4]),\n",
    "    \"(method != \\\"Greedy\\\") &(sigma == {}) & (epsilon == 0.01 | epsilon != epsilon) & (T != T | T == 500 | T == 1000 | T == 2500 | T == 5000)\".format(dfs[1][\"sigma\"].unique()[0]),\n",
    "    \"(method != \\\"Greedy\\\") &(sigma == {}) & (epsilon == 0.01 | epsilon != epsilon) & (T != T | T == 500 | T == 1000 | T == 2500 | T == 5000)\".format(dfs[2][\"sigma\"].unique()[3])\n",
    "]\n",
    "\n",
    "for i, df in enumerate(dfs):\n",
    "    dff = df.query(queries[i])\n",
    "    for name in natural_sort(dff[\"nice_name\"].unique()):\n",
    "        df_method = dff.loc[ dff[\"nice_name\"] == name]\n",
    "        df_method = df_method.sort_values(by = [\"K\"])\n",
    "    \n",
    "        fig.add_trace(\n",
    "            go.Scatter(x = df_method[\"K\"], y = df_method[\"scores.relative_performance\"], name = name, line = {\"width\":2}, mode='lines+markers', showlegend = False, \n",
    "                marker=dict(color = colors[name], size=7, symbol=markers[name])\n",
    "            ), row = 2, col = i + 1\n",
    "        )\n",
    "\n",
    "fig.update_yaxes(title_text=\"Relative Performance ε = 0.1\", row=1, col=1, title_standoff = 25)\n",
    "fig.update_yaxes(title_text=\"Relative Performance ε = 0.01\", row=2, col=1, title_standoff = 25)\n",
    "fig.update_xaxes(dtick = 10, row=1, col=1)\n",
    "fig.update_xaxes(dtick = 10, row=1, col=2)\n",
    "fig.update_xaxes(dtick = 10, row=1, col=3)\n",
    "\n",
    "fig.update_xaxes(dtick = 10, title_text=\"K\", row=2, col=1)\n",
    "fig.update_xaxes(dtick = 10, title_text=\"K\", row=2, col=2)\n",
    "fig.update_xaxes(dtick = 10, title_text=\"K\", row=2, col=3)\n",
    "\n",
    "fig.update_layout(\n",
    "    template=\"simple_white\",\n",
    "    legend=dict(orientation=\"h\",yanchor=\"bottom\",y=-0.15,xanchor=\"left\",x=0.03,font={\"size\": 15}),\n",
    "    margin={'l': 5, 'r': 20, 't': 25, 'b': 5},\n",
    "    height=900, width=1100\n",
    ")\n",
    "fig.write_image(\"stream_all_over_K.pdf\")\n",
    "fig.show()\n"
   ]
  }
 ],
 "metadata": {
  "interpreter": {
   "hash": "f19a657b7ef6b77257564d1f5f08780c3eebd5afce97fb594e426e4fbabeffc3"
  },
  "kernelspec": {
   "display_name": "Python 3",
   "language": "python",
   "name": "python3"
  },
  "language_info": {
   "codemirror_mode": {
    "name": "ipython",
    "version": 3
   },
   "file_extension": ".py",
   "mimetype": "text/x-python",
   "name": "python",
   "nbconvert_exporter": "python",
   "pygments_lexer": "ipython3",
   "version": "3.7.12"
  }
 },
 "nbformat": 4,
 "nbformat_minor": 2
}
